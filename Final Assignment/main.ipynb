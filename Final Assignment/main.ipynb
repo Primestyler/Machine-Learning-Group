{
 "cells": [
  {
   "cell_type": "markdown",
   "metadata": {},
   "source": [
    "### Kaggle\n",
    "\n",
    "Group 1\n",
    "\n",
    "Jenewein Matthias - Jenewein Matthias\n",
    "\n",
    "Kalarickal Dominic - Kalarickal Dominic\n",
    "\n",
    "Leander Leirissa - Bitterzoet\n",
    "\n",
    "Timmer Lars - laltir"
   ]
  },
  {
   "cell_type": "markdown",
   "metadata": {},
   "source": [
    "# 0. Loading packages"
   ]
  },
  {
   "cell_type": "markdown",
   "metadata": {},
   "source": [
    "If not all libraries are installed, uncomment the cell below"
   ]
  },
  {
   "cell_type": "code",
   "execution_count": 1,
   "metadata": {},
   "outputs": [],
   "source": [
    "#%pip install -r requirements.txt"
   ]
  },
  {
   "cell_type": "code",
   "execution_count": 2,
   "metadata": {},
   "outputs": [],
   "source": [
    "import warnings \n",
    "\n",
    "warnings.filterwarnings('ignore')\n",
    "\n",
    "import functions as f\n",
    "\n",
    "import numpy as np\n",
    "import pandas as pd\n",
    "import matplotlib.pyplot as plt\n",
    "import seaborn as sns\n",
    "import librosa\n",
    "from sklearn.cluster import KMeans\n",
    "from sklearn.decomposition import PCA, NMF\n",
    "from sklearn.preprocessing import StandardScaler, MinMaxScaler\n",
    "from sklearn.metrics import silhouette_score\n",
    "import os\n",
    "from scipy.spatial.distance import cdist\n",
    "\n",
    "pd.set_option('display.max_columns', None)"
   ]
  },
  {
   "cell_type": "markdown",
   "metadata": {},
   "source": [
    "# 1. Loading labeled data labels"
   ]
  },
  {
   "cell_type": "code",
   "execution_count": 3,
   "metadata": {},
   "outputs": [],
   "source": [
    "labels = pd.read_csv('Datasets/labels_new.csv')"
   ]
  },
  {
   "cell_type": "code",
   "execution_count": 4,
   "metadata": {},
   "outputs": [
    {
     "data": {
      "text/html": [
       "<div>\n",
       "<style scoped>\n",
       "    .dataframe tbody tr th:only-of-type {\n",
       "        vertical-align: middle;\n",
       "    }\n",
       "\n",
       "    .dataframe tbody tr th {\n",
       "        vertical-align: top;\n",
       "    }\n",
       "\n",
       "    .dataframe thead th {\n",
       "        text-align: right;\n",
       "    }\n",
       "</style>\n",
       "<table border=\"1\" class=\"dataframe\">\n",
       "  <thead>\n",
       "    <tr style=\"text-align: right;\">\n",
       "      <th></th>\n",
       "      <th>filename</th>\n",
       "      <th>genre</th>\n",
       "    </tr>\n",
       "  </thead>\n",
       "  <tbody>\n",
       "    <tr>\n",
       "      <th>0</th>\n",
       "      <td>m00248.wav</td>\n",
       "      <td>metal</td>\n",
       "    </tr>\n",
       "    <tr>\n",
       "      <th>1</th>\n",
       "      <td>m00230.wav</td>\n",
       "      <td>country</td>\n",
       "    </tr>\n",
       "    <tr>\n",
       "      <th>2</th>\n",
       "      <td>m00637.wav</td>\n",
       "      <td>hiphop</td>\n",
       "    </tr>\n",
       "    <tr>\n",
       "      <th>3</th>\n",
       "      <td>m00627.wav</td>\n",
       "      <td>metal</td>\n",
       "    </tr>\n",
       "    <tr>\n",
       "      <th>4</th>\n",
       "      <td>m00138.wav</td>\n",
       "      <td>reggae</td>\n",
       "    </tr>\n",
       "  </tbody>\n",
       "</table>\n",
       "</div>"
      ],
      "text/plain": [
       "     filename    genre\n",
       "0  m00248.wav    metal\n",
       "1  m00230.wav  country\n",
       "2  m00637.wav   hiphop\n",
       "3  m00627.wav    metal\n",
       "4  m00138.wav   reggae"
      ]
     },
     "execution_count": 4,
     "metadata": {},
     "output_type": "execute_result"
    }
   ],
   "source": [
    "labels.head()"
   ]
  },
  {
   "cell_type": "markdown",
   "metadata": {},
   "source": [
    "# 2. Feature Engineering"
   ]
  },
  {
   "cell_type": "code",
   "execution_count": 5,
   "metadata": {},
   "outputs": [
    {
     "name": "stdout",
     "output_type": "stream",
     "text": [
      "Labeled files: ['m00002.wav', 'm00039.wav', 'm00041.wav', 'm00072.wav', 'm00096.wav', 'm00102.wav', 'm00112.wav', 'm00138.wav', 'm00192.wav', 'm00206.wav', 'm00230.wav', 'm00236.wav', 'm00248.wav', 'm00253.wav', 'm00298.wav', 'm00313.wav', 'm00338.wav', 'm00339.wav', 'm00351.wav', 'm00400.wav', 'm00421.wav', 'm00429.wav', 'm00435.wav', 'm00454.wav', 'm00477.wav', 'm00501.wav', 'm00503.wav', 'm00513.wav', 'm00553.wav', 'm00606.wav', 'm00623.wav', 'm00627.wav', 'm00629.wav', 'm00633.wav', 'm00637.wav', 'm00658.wav', 'm00671.wav', 'm00676.wav', 'm00677.wav', 'm00678.wav', 'm00716.wav', 'm00762.wav', 'm00772.wav', 'm00773.wav', 'm00801.wav', 'm00821.wav', 'm00850.wav', 'm00867.wav', 'm00895.wav', 'm00996.wav']\n",
      "Unlabeled files: ['m00003.wav', 'm00012.wav', 'm00013.wav', 'm00043.wav', 'm00044.wav', 'm00055.wav', 'm00061.wav', 'm00063.wav', 'm00069.wav', 'm00074.wav', 'm00107.wav', 'm00114.wav', 'm00127.wav', 'm00137.wav', 'm00139.wav', 'm00148.wav', 'm00149.wav', 'm00156.wav', 'm00183.wav', 'm00211.wav', 'm00218.wav', 'm00228.wav', 'm00247.wav', 'm00254.wav', 'm00266.wav', 'm00289.wav', 'm00292.wav', 'm00293.wav', 'm00309.wav', 'm00318.wav', 'm00321.wav', 'm00323.wav', 'm00324.wav', 'm00331.wav', 'm00348.wav', 'm00355.wav', 'm00356.wav', 'm00357.wav', 'm00359.wav', 'm00363.wav', 'm00371.wav', 'm00372.wav', 'm00391.wav', 'm00393.wav', 'm00399.wav', 'm00405.wav', 'm00414.wav', 'm00434.wav', 'm00463.wav', 'm00468.wav', 'm00487.wav', 'm00495.wav', 'm00515.wav', 'm00528.wav', 'm00537.wav', 'm00538.wav', 'm00549.wav', 'm00555.wav', 'm00560.wav', 'm00570.wav', 'm00571.wav', 'm00576.wav', 'm00581.wav', 'm00582.wav', 'm00589.wav', 'm00597.wav', 'm00610.wav', 'm00616.wav', 'm00624.wav', 'm00635.wav', 'm00685.wav', 'm00705.wav', 'm00708.wav', 'm00719.wav', 'm00730.wav', 'm00733.wav', 'm00736.wav', 'm00755.wav', 'm00756.wav', 'm00791.wav', 'm00806.wav', 'm00812.wav', 'm00817.wav', 'm00824.wav', 'm00828.wav', 'm00829.wav', 'm00833.wav', 'm00838.wav', 'm00843.wav', 'm00852.wav', 'm00873.wav', 'm00921.wav', 'm00927.wav', 'm00928.wav', 'm00941.wav', 'm00947.wav', 'm00949.wav', 'm00950.wav', 'm00961.wav', 'm00967.wav', 'm00971.wav', 'm00973.wav', 'm00988.wav', 'm00991.wav', 'm00995.wav']\n"
     ]
    }
   ],
   "source": [
    "labeled_files = os.listdir('Datasets/labeled')\n",
    "unlabeled_files = os.listdir('Datasets/unlabeled')\n",
    "\n",
    "print(\"Labeled files:\", labeled_files)\n",
    "print(\"Unlabeled files:\", unlabeled_files)"
   ]
  },
  {
   "cell_type": "code",
   "execution_count": 6,
   "metadata": {},
   "outputs": [
    {
     "name": "stdout",
     "output_type": "stream",
     "text": [
      "Labeled Features DataFrame\n"
     ]
    },
    {
     "data": {
      "text/html": [
       "<div>\n",
       "<style scoped>\n",
       "    .dataframe tbody tr th:only-of-type {\n",
       "        vertical-align: middle;\n",
       "    }\n",
       "\n",
       "    .dataframe tbody tr th {\n",
       "        vertical-align: top;\n",
       "    }\n",
       "\n",
       "    .dataframe thead th {\n",
       "        text-align: right;\n",
       "    }\n",
       "</style>\n",
       "<table border=\"1\" class=\"dataframe\">\n",
       "  <thead>\n",
       "    <tr style=\"text-align: right;\">\n",
       "      <th></th>\n",
       "      <th>spectral_centroid</th>\n",
       "      <th>spectral_bandwidth</th>\n",
       "      <th>zero_crossing_rate</th>\n",
       "      <th>rms</th>\n",
       "      <th>spectral_rolloff</th>\n",
       "      <th>mfcc_mean_1</th>\n",
       "      <th>mfcc_mean_2</th>\n",
       "      <th>mfcc_mean_3</th>\n",
       "      <th>chroma_mean_1</th>\n",
       "      <th>chroma_mean_2</th>\n",
       "      <th>tempo</th>\n",
       "      <th>contrast_mean_1</th>\n",
       "      <th>contrast_mean_2</th>\n",
       "      <th>tonnetz_mean_1</th>\n",
       "      <th>tonnetz_mean_2</th>\n",
       "      <th>flatness_mean</th>\n",
       "      <th>filename</th>\n",
       "      <th>genre</th>\n",
       "    </tr>\n",
       "  </thead>\n",
       "  <tbody>\n",
       "    <tr>\n",
       "      <th>0</th>\n",
       "      <td>1451.862124</td>\n",
       "      <td>1920.270843</td>\n",
       "      <td>0.051224</td>\n",
       "      <td>0.050480</td>\n",
       "      <td>3047.431199</td>\n",
       "      <td>-298.756134</td>\n",
       "      <td>112.076279</td>\n",
       "      <td>6.488818</td>\n",
       "      <td>0.117655</td>\n",
       "      <td>0.133911</td>\n",
       "      <td>[129.19921875]</td>\n",
       "      <td>19.667917</td>\n",
       "      <td>20.515668</td>\n",
       "      <td>0.008745</td>\n",
       "      <td>0.028968</td>\n",
       "      <td>0.001261</td>\n",
       "      <td>m00002.wav</td>\n",
       "      <td>jazz</td>\n",
       "    </tr>\n",
       "    <tr>\n",
       "      <th>1</th>\n",
       "      <td>2624.814629</td>\n",
       "      <td>2709.897108</td>\n",
       "      <td>0.120217</td>\n",
       "      <td>0.142927</td>\n",
       "      <td>5605.777240</td>\n",
       "      <td>-69.630653</td>\n",
       "      <td>83.072273</td>\n",
       "      <td>-16.599928</td>\n",
       "      <td>0.286717</td>\n",
       "      <td>0.369671</td>\n",
       "      <td>[129.19921875]</td>\n",
       "      <td>29.752017</td>\n",
       "      <td>16.141935</td>\n",
       "      <td>-0.057095</td>\n",
       "      <td>-0.026923</td>\n",
       "      <td>0.038256</td>\n",
       "      <td>m00072.wav</td>\n",
       "      <td>disco</td>\n",
       "    </tr>\n",
       "    <tr>\n",
       "      <th>2</th>\n",
       "      <td>1174.324843</td>\n",
       "      <td>1518.126210</td>\n",
       "      <td>0.066340</td>\n",
       "      <td>0.009491</td>\n",
       "      <td>2083.791215</td>\n",
       "      <td>-436.858215</td>\n",
       "      <td>154.080429</td>\n",
       "      <td>-19.861961</td>\n",
       "      <td>0.258693</td>\n",
       "      <td>0.249861</td>\n",
       "      <td>[123.046875]</td>\n",
       "      <td>19.732632</td>\n",
       "      <td>20.660649</td>\n",
       "      <td>0.301314</td>\n",
       "      <td>-0.125383</td>\n",
       "      <td>0.000978</td>\n",
       "      <td>m00102.wav</td>\n",
       "      <td>classical</td>\n",
       "    </tr>\n",
       "    <tr>\n",
       "      <th>3</th>\n",
       "      <td>2549.269757</td>\n",
       "      <td>2485.524548</td>\n",
       "      <td>0.115834</td>\n",
       "      <td>0.184340</td>\n",
       "      <td>5583.144894</td>\n",
       "      <td>-91.983772</td>\n",
       "      <td>87.640099</td>\n",
       "      <td>-2.066796</td>\n",
       "      <td>0.432902</td>\n",
       "      <td>0.321649</td>\n",
       "      <td>[123.046875]</td>\n",
       "      <td>16.843315</td>\n",
       "      <td>15.728975</td>\n",
       "      <td>-0.014465</td>\n",
       "      <td>0.021814</td>\n",
       "      <td>0.009791</td>\n",
       "      <td>m00096.wav</td>\n",
       "      <td>disco</td>\n",
       "    </tr>\n",
       "    <tr>\n",
       "      <th>4</th>\n",
       "      <td>1811.410394</td>\n",
       "      <td>2019.300257</td>\n",
       "      <td>0.072150</td>\n",
       "      <td>0.123665</td>\n",
       "      <td>3854.851374</td>\n",
       "      <td>-169.153351</td>\n",
       "      <td>110.459999</td>\n",
       "      <td>-8.576200</td>\n",
       "      <td>0.412044</td>\n",
       "      <td>0.333314</td>\n",
       "      <td>[135.99917763157896]</td>\n",
       "      <td>19.964829</td>\n",
       "      <td>17.050832</td>\n",
       "      <td>-0.055290</td>\n",
       "      <td>0.124234</td>\n",
       "      <td>0.004313</td>\n",
       "      <td>m00039.wav</td>\n",
       "      <td>reggae</td>\n",
       "    </tr>\n",
       "  </tbody>\n",
       "</table>\n",
       "</div>"
      ],
      "text/plain": [
       "   spectral_centroid  spectral_bandwidth  zero_crossing_rate       rms  \\\n",
       "0        1451.862124         1920.270843            0.051224  0.050480   \n",
       "1        2624.814629         2709.897108            0.120217  0.142927   \n",
       "2        1174.324843         1518.126210            0.066340  0.009491   \n",
       "3        2549.269757         2485.524548            0.115834  0.184340   \n",
       "4        1811.410394         2019.300257            0.072150  0.123665   \n",
       "\n",
       "   spectral_rolloff  mfcc_mean_1  mfcc_mean_2  mfcc_mean_3  chroma_mean_1  \\\n",
       "0       3047.431199  -298.756134   112.076279     6.488818       0.117655   \n",
       "1       5605.777240   -69.630653    83.072273   -16.599928       0.286717   \n",
       "2       2083.791215  -436.858215   154.080429   -19.861961       0.258693   \n",
       "3       5583.144894   -91.983772    87.640099    -2.066796       0.432902   \n",
       "4       3854.851374  -169.153351   110.459999    -8.576200       0.412044   \n",
       "\n",
       "   chroma_mean_2                 tempo  contrast_mean_1  contrast_mean_2  \\\n",
       "0       0.133911        [129.19921875]        19.667917        20.515668   \n",
       "1       0.369671        [129.19921875]        29.752017        16.141935   \n",
       "2       0.249861          [123.046875]        19.732632        20.660649   \n",
       "3       0.321649          [123.046875]        16.843315        15.728975   \n",
       "4       0.333314  [135.99917763157896]        19.964829        17.050832   \n",
       "\n",
       "   tonnetz_mean_1  tonnetz_mean_2  flatness_mean    filename      genre  \n",
       "0        0.008745        0.028968       0.001261  m00002.wav       jazz  \n",
       "1       -0.057095       -0.026923       0.038256  m00072.wav      disco  \n",
       "2        0.301314       -0.125383       0.000978  m00102.wav  classical  \n",
       "3       -0.014465        0.021814       0.009791  m00096.wav      disco  \n",
       "4       -0.055290        0.124234       0.004313  m00039.wav     reggae  "
      ]
     },
     "metadata": {},
     "output_type": "display_data"
    },
    {
     "name": "stdout",
     "output_type": "stream",
     "text": [
      "\n",
      "Unlabeled Features DataFrame\n"
     ]
    },
    {
     "data": {
      "text/html": [
       "<div>\n",
       "<style scoped>\n",
       "    .dataframe tbody tr th:only-of-type {\n",
       "        vertical-align: middle;\n",
       "    }\n",
       "\n",
       "    .dataframe tbody tr th {\n",
       "        vertical-align: top;\n",
       "    }\n",
       "\n",
       "    .dataframe thead th {\n",
       "        text-align: right;\n",
       "    }\n",
       "</style>\n",
       "<table border=\"1\" class=\"dataframe\">\n",
       "  <thead>\n",
       "    <tr style=\"text-align: right;\">\n",
       "      <th></th>\n",
       "      <th>spectral_centroid</th>\n",
       "      <th>spectral_bandwidth</th>\n",
       "      <th>zero_crossing_rate</th>\n",
       "      <th>rms</th>\n",
       "      <th>spectral_rolloff</th>\n",
       "      <th>mfcc_mean_1</th>\n",
       "      <th>mfcc_mean_2</th>\n",
       "      <th>mfcc_mean_3</th>\n",
       "      <th>chroma_mean_1</th>\n",
       "      <th>chroma_mean_2</th>\n",
       "      <th>tempo</th>\n",
       "      <th>contrast_mean_1</th>\n",
       "      <th>contrast_mean_2</th>\n",
       "      <th>tonnetz_mean_1</th>\n",
       "      <th>tonnetz_mean_2</th>\n",
       "      <th>flatness_mean</th>\n",
       "      <th>filename</th>\n",
       "    </tr>\n",
       "  </thead>\n",
       "  <tbody>\n",
       "    <tr>\n",
       "      <th>0</th>\n",
       "      <td>1952.607933</td>\n",
       "      <td>1865.996047</td>\n",
       "      <td>0.123423</td>\n",
       "      <td>0.029083</td>\n",
       "      <td>3779.909832</td>\n",
       "      <td>-287.603699</td>\n",
       "      <td>101.758171</td>\n",
       "      <td>-35.345409</td>\n",
       "      <td>0.397867</td>\n",
       "      <td>0.143860</td>\n",
       "      <td>[184.5703125]</td>\n",
       "      <td>15.679685</td>\n",
       "      <td>18.681856</td>\n",
       "      <td>0.026706</td>\n",
       "      <td>0.160484</td>\n",
       "      <td>0.002211</td>\n",
       "      <td>m00013.wav</td>\n",
       "    </tr>\n",
       "    <tr>\n",
       "      <th>1</th>\n",
       "      <td>2384.634958</td>\n",
       "      <td>2072.759900</td>\n",
       "      <td>0.126073</td>\n",
       "      <td>0.100411</td>\n",
       "      <td>4584.132502</td>\n",
       "      <td>-120.147491</td>\n",
       "      <td>91.317215</td>\n",
       "      <td>-38.845890</td>\n",
       "      <td>0.420561</td>\n",
       "      <td>0.352720</td>\n",
       "      <td>[135.99917763157896]</td>\n",
       "      <td>18.871521</td>\n",
       "      <td>14.355007</td>\n",
       "      <td>0.034065</td>\n",
       "      <td>-0.045781</td>\n",
       "      <td>0.008830</td>\n",
       "      <td>m00043.wav</td>\n",
       "    </tr>\n",
       "    <tr>\n",
       "      <th>2</th>\n",
       "      <td>1900.384454</td>\n",
       "      <td>2420.093629</td>\n",
       "      <td>0.066173</td>\n",
       "      <td>0.183958</td>\n",
       "      <td>4189.731819</td>\n",
       "      <td>-111.209496</td>\n",
       "      <td>103.165291</td>\n",
       "      <td>10.905522</td>\n",
       "      <td>0.308940</td>\n",
       "      <td>0.418922</td>\n",
       "      <td>[107.666015625]</td>\n",
       "      <td>24.412625</td>\n",
       "      <td>17.589618</td>\n",
       "      <td>0.164663</td>\n",
       "      <td>-0.105102</td>\n",
       "      <td>0.016659</td>\n",
       "      <td>m00055.wav</td>\n",
       "    </tr>\n",
       "    <tr>\n",
       "      <th>3</th>\n",
       "      <td>790.507005</td>\n",
       "      <td>900.409298</td>\n",
       "      <td>0.052088</td>\n",
       "      <td>0.018833</td>\n",
       "      <td>1159.412273</td>\n",
       "      <td>-437.604401</td>\n",
       "      <td>170.931534</td>\n",
       "      <td>7.419581</td>\n",
       "      <td>0.121688</td>\n",
       "      <td>0.103558</td>\n",
       "      <td>[143.5546875]</td>\n",
       "      <td>14.756063</td>\n",
       "      <td>17.163709</td>\n",
       "      <td>-0.156577</td>\n",
       "      <td>0.112052</td>\n",
       "      <td>0.000153</td>\n",
       "      <td>m00044.wav</td>\n",
       "    </tr>\n",
       "    <tr>\n",
       "      <th>4</th>\n",
       "      <td>2254.606986</td>\n",
       "      <td>2071.028440</td>\n",
       "      <td>0.120116</td>\n",
       "      <td>0.136221</td>\n",
       "      <td>4381.532206</td>\n",
       "      <td>-82.511116</td>\n",
       "      <td>97.341721</td>\n",
       "      <td>-34.367931</td>\n",
       "      <td>0.471297</td>\n",
       "      <td>0.409747</td>\n",
       "      <td>[135.99917763157896]</td>\n",
       "      <td>18.423249</td>\n",
       "      <td>14.811132</td>\n",
       "      <td>0.063834</td>\n",
       "      <td>-0.022262</td>\n",
       "      <td>0.009073</td>\n",
       "      <td>m00003.wav</td>\n",
       "    </tr>\n",
       "  </tbody>\n",
       "</table>\n",
       "</div>"
      ],
      "text/plain": [
       "   spectral_centroid  spectral_bandwidth  zero_crossing_rate       rms  \\\n",
       "0        1952.607933         1865.996047            0.123423  0.029083   \n",
       "1        2384.634958         2072.759900            0.126073  0.100411   \n",
       "2        1900.384454         2420.093629            0.066173  0.183958   \n",
       "3         790.507005          900.409298            0.052088  0.018833   \n",
       "4        2254.606986         2071.028440            0.120116  0.136221   \n",
       "\n",
       "   spectral_rolloff  mfcc_mean_1  mfcc_mean_2  mfcc_mean_3  chroma_mean_1  \\\n",
       "0       3779.909832  -287.603699   101.758171   -35.345409       0.397867   \n",
       "1       4584.132502  -120.147491    91.317215   -38.845890       0.420561   \n",
       "2       4189.731819  -111.209496   103.165291    10.905522       0.308940   \n",
       "3       1159.412273  -437.604401   170.931534     7.419581       0.121688   \n",
       "4       4381.532206   -82.511116    97.341721   -34.367931       0.471297   \n",
       "\n",
       "   chroma_mean_2                 tempo  contrast_mean_1  contrast_mean_2  \\\n",
       "0       0.143860         [184.5703125]        15.679685        18.681856   \n",
       "1       0.352720  [135.99917763157896]        18.871521        14.355007   \n",
       "2       0.418922       [107.666015625]        24.412625        17.589618   \n",
       "3       0.103558         [143.5546875]        14.756063        17.163709   \n",
       "4       0.409747  [135.99917763157896]        18.423249        14.811132   \n",
       "\n",
       "   tonnetz_mean_1  tonnetz_mean_2  flatness_mean    filename  \n",
       "0        0.026706        0.160484       0.002211  m00013.wav  \n",
       "1        0.034065       -0.045781       0.008830  m00043.wav  \n",
       "2        0.164663       -0.105102       0.016659  m00055.wav  \n",
       "3       -0.156577        0.112052       0.000153  m00044.wav  \n",
       "4        0.063834       -0.022262       0.009073  m00003.wav  "
      ]
     },
     "metadata": {},
     "output_type": "display_data"
    }
   ],
   "source": [
    "dl = f.DataLoader()\n",
    "\n",
    "labeled_features_df = dl.featureDataFrame(labeled_files, 'Datasets/labeled')\n",
    "unlabeled_features_df = dl.featureDataFrame(unlabeled_files, 'Datasets/unlabeled')\n",
    "\n",
    "labeled_features_df = labeled_features_df.merge(labels, on='filename')\n",
    "\n",
    "print(\"Labeled Features DataFrame\")\n",
    "display(labeled_features_df.head())\n",
    "\n",
    "print(\"\\nUnlabeled Features DataFrame\")\n",
    "display(unlabeled_features_df.head())"
   ]
  },
  {
   "cell_type": "markdown",
   "metadata": {},
   "source": [
    "\n",
    "Explanation: \n",
    "\n",
    "Good source: Anssi_Klapuri_Manuel_Davy_Signal_Processing_MetBookos.org.pdf\n",
    "\n",
    "1. Spectral Centroid: \n",
    "\n",
    "    -Explanation: The spectral centroid describes the point where the most spectral energy resides in that spectrum. The higher the spectral centroid is, the brighter does the sound sound.\n",
    "\n",
    "    -Calculation: We used the library librosa to compute the spectral centroid. Librosa calculates the spectral centroid as the weighted mean of the frequencies based on the magnitudes.\n",
    "\n",
    "    The mathematical formula is the following: \n",
    "    $$\n",
    "    \\text{Spectral Centroid} = \\frac{\\sum_{n=0}^{N-1} f(n)\\,x(n)}{\\sum_{n=0}^{N-1} x(n)}\n",
    "    $$\n",
    "    Where x(n) describes the weighted frequency value and f(n) is the core frequency.\n",
    "\n",
    "    Mathematically speaking, the specral centroid is the weighted mean of the frequencies calculated via a Fourier transform. \n",
    "\n",
    "    https://www.sciencedirect.com/topics/engineering/spectral-centroid\n",
    "    https://librosa.org/doc-playground/0.7.2/generated/librosa.feature.spectral_centroid.html\n",
    "    https://en.wikipedia.org/wiki/Spectral_centroid\n",
    "\n",
    "2. Spectral Bandwith: \n",
    "\n",
    "    -Explanation: The spectral bandwith can be considered as the variance of the spectrum. It is the spread of frequencies around the spectral centroid. A larger bandwith means a wider range of frequencies and therefore a rhythmic sounds.\n",
    "\n",
    "    -Calculation: Librosa calculates the spectral bandwith as the weighted standard deviation of the frequencies around the spectral centroid. \n",
    "\n",
    "    The mathematical formula is the following: \n",
    "    $$\n",
    "    \\text{Spectral Bandwidth} = \\frac{\\sum_{n=0}^{N-1} \\left(f(n) - \\text{Spectral Centroid}\\right)^2 \\cdot x(n)}{\\sum_{n=0}^{N-1} x(n)}\n",
    "    $$\n",
    "    Where x(n) describes the weighted frequency value and f(n) is the core frequency.\n",
    "\n",
    "    https://librosa.org/doc/main/generated/librosa.feature.spectral_bandwidth.html\n",
    "\n",
    "3. Zero Crossing Rate: \n",
    "\n",
    "    -Explanation: The Zero Crossing Rate defines the rate how often the signal crosses the zero amplitude line. A high rate results in a noiser sound and a lower rate results in a smoother sound. \n",
    "\n",
    "    -Calculation: Librosa computes the ZCR by adding the number of times the zero amplitude line is crossed and the normalizing this number by the amount of sound segments.\n",
    "\n",
    "    The mathematical formula is the following: \n",
    "    $$\n",
    "    \\text{ZCR} = \\frac{1}{T} \\sum_{t=1}^{T} \\mathbb{I}\\left\\{x(t-1) \\cdot x(t) < 0\\right\\}\n",
    "    $$  \n",
    "\n",
    "    https://librosa.org/doc/main/generated/librosa.feature.zero_crossing_rate.html\n",
    "\n",
    "4. Root Mean Square (RMS): \n",
    "\n",
    "    -Explanation: The RMS describes the loudness (power) of the analysed audio signal. It returns an estimate of the signal's amplitude and higher RMS values mean that the sound is louder. \n",
    "\n",
    "    -Calculation: Librosa calculates the RMS as the square root of the mean of the squared amplitudes. \n",
    "\n",
    "    The mathematical formula is the following: \n",
    "    $$\n",
    "    \\text{RMS} = \\sqrt{ \\frac{1}{N} \\sum_{n=1}^{N} \\left(\\text{amplitude}_n\\right)^2 }\n",
    "    $$\n",
    "\n",
    "5. Spectral Rolloff:\n",
    "    \n",
    "    -Explanation: The spectral rolloff defines the frequency below most of the total spectral energy lies. This helps distinguish between non-harmonic and harmonic sounds.\n",
    "\n",
    "    -Calculation: Librosa calculates the Spectral Rolloff by frequency 𝑓(𝑟) where the cumulative sum of the spectral magnitudes reaches a specified ratio 𝑟 of the total sum.\n",
    "\n",
    "    The mathematical formula is the following: \n",
    "    $$\n",
    "    \\text{Spectral Rolloff} = f(r) \\quad \\text{where} \\quad \\sum_{n=0}^{k} x(n) = r \\cdot \\sum_{n=0}^{N-1} x(n)\n",
    "    $$\n",
    "\n",
    "6. MFCC Means: \n",
    "\n",
    "    -Explanation: Mel-Frequency Cepstral Coefficients (MFCCs) are numbers that represent the quality and texture of a sound. They help capture important details about the sound's characteristics, such as its tone and richness. By calculating the average value of each MFCC across all small segments of the audio, we get a single summary for each MFCC. This summary gives us an overall idea of the sound's main features throughout the entire audio clip.\n",
    "\n",
    "    -Calculation: Librosa calculates the MFCC Means by first extracting the MFCCs for each frame of the audio signal and then computing the average value of each coefficient across all frames.\n",
    "\n",
    "    The mathematical formula is the following: \n",
    "    $$\n",
    "    \\text{MFCC}_i = \\frac{1}{N} \\sum_{n=0}^{N-1} \\text{MFCC}(i, n)\n",
    "    $$\n",
    "\n",
    "    MFCC𝑖 is the mean value of the 𝑖-th MFCC coefficient.\n",
    "    𝑁 is the total number of frames.\n",
    "    MFCC(𝑖,𝑛) is the value of the 𝑖-th MFCC coefficient in the 𝑛-th frame.\n",
    "\n",
    "7. Chroma Mean: \n",
    "\n",
    "    -Explanation: Chroma features describe the intensity of all the 12 different pitch classes (e.g. C, D, etc.) within an octave. The mean of the chroma features is the average intensity of all pitch classes across all frames.\n",
    "\n",
    "    -Calculation: Librosa calculates Chroma Mean by mapping the frequency spectrum to pitch classes and then averaging the intensity of each class across all frames.\n",
    "\n",
    "    The mathematical formula is the following: \n",
    "    $$\n",
    "    \\text{Chroma Mean}_i = \\frac{1}{N} \\sum_{n=0}^{N-1} \\text{Chroma}(i, n)\n",
    "    $$\n",
    "\n",
    "    where:\n",
    "\n",
    "    𝑖 is the pitch class index (ranging from 0 to 11, corresponding to the twelve semitones in an octave).\n",
    "    𝑛 is the frame index.\n",
    "    𝑁 is the total number of frames.\n",
    "    Chroma(𝑖,𝑛) is the intensity of the 𝑖-th pitch class in the 𝑛-th frame\n",
    "\n",
    "8. Tempo:\n",
    "    \n",
    "    -Explanation: Tempo is the speed of a sound. In most cases it is measured as the BPM (beats per minute). Tempo is an important feature for rhythm and is often used to classify songs into different genres. \n",
    "\n",
    "    -Calculation: Librosa calculates the BPM by dividing a minute through the beat interval. \n",
    "\n",
    "    The mathematical formula is the following: \n",
    "    $$\n",
    "    \\text{Tempo (BPM)} = \\frac{60}{\\text{Average Beat Interval (seconds)}}\n",
    "    $$\n",
    "\n",
    "9. Spectral Contrast Mean: \n",
    "\n",
    "    -Explanation: Spectral Contrast measures the difference in amplitude between high-energy regions (peaks) and low-energy regions (valleys) within specific frequency bands. By calculating the mean spectral contrast across all frames, we obtain an average representation of these amplitude differences for each frequency band, aiding in distinguishing between different types of sounds based on their spectral characteristics.\n",
    "\n",
    "    -Calculation: Librosa computes the Spectral Contrast Mean by dividing the frequency spectrum into multiple subbands, identifying the maximum and minimum magnitudes within each band for every frame, calculating the contrast for each band, and then averaging these contrast values across all frames.\n",
    " \n",
    "    The mathematical formula is the following: \n",
    "    $$\n",
    "    \\text{Spectral Contrast}_i = \\frac{\\max(x_i) - \\min(x_i)}{\\max(x_i)}\n",
    "    $$\n",
    "\n",
    "    where:\n",
    "\n",
    "    Spectral Contrast 𝑖 is the mean spectral contrast for the 𝑖-th frequency band.\n",
    "    𝑥𝑖 represents the spectral magnitudes within the 𝑖-th frequency band across all frames.\n",
    "    max(𝑥𝑖) is the maximum magnitude in the 𝑖-th band.\n",
    "    min(𝑥𝑖) is the minimum magnitude in the 𝑖-th band.\n",
    "\n",
    "10. Tonnetz (Mean): \n",
    "\n",
    "    -Explanation: The Tonnetz (abbv. for Tonal centroid features) represents the tonal relationship between different pitches. A major third would be an example for such an harmonic relationship. The Tonnetz Mean  is the mean of all these relationsships over a certain period of time. \n",
    "\n",
    "    -Calculation: Librosa calculates the Tonnetz Mean by first transforming the chroma features into the Tonnetz space, capturing the harmonic relationships for each frame, and then averaging these relationships across all frames.\n",
    "\n",
    "    The mathematical formula is the following: \n",
    "    $$\n",
    "    \\text{Tonnetz Mean}_i = \\frac{1}{N} \\sum_{n=0}^{N-1} \\text{Tonnetz}(i, n)\n",
    "    $$\n",
    "\n",
    "    where:\n",
    "\n",
    "    Tonnetz Mean𝑖 is the mean value of the 𝑖-th Tonnetz dimension.\n",
    "    𝑁 is the total number of frames.\n",
    "    Tonnetz(𝑖,𝑛) is the value of the 𝑖-th Tonnetz feature in the 𝑛-th frame.\n",
    "\n",
    "11. Spectral Flatness:\n",
    "\n",
    "    -Explanation: Spectral Flatness is how well a sound represents a pure tone. A low value indicates a purer tone. \n",
    "\n",
    "    -Calculation: Librosa calculates the Spectral Flatness as the ratio of the geometric mean to the arithmetic mean of the spectral magnitudes.\n",
    "    \n",
    "    The mathematical formula is the following: \n",
    "    $$\n",
    "    \\text{Spectral Flatness} = \\frac{\\left( \\prod_{n=0}^{N-1} x(n) \\right)^{\\frac{1}{N}}}{\\frac{1}{N} \\sum_{n=0}^{N-1} x(n)}\n",
    "    $$"
   ]
  },
  {
   "cell_type": "code",
   "execution_count": 7,
   "metadata": {},
   "outputs": [
    {
     "data": {
      "text/html": [
       "<div>\n",
       "<style scoped>\n",
       "    .dataframe tbody tr th:only-of-type {\n",
       "        vertical-align: middle;\n",
       "    }\n",
       "\n",
       "    .dataframe tbody tr th {\n",
       "        vertical-align: top;\n",
       "    }\n",
       "\n",
       "    .dataframe thead th {\n",
       "        text-align: right;\n",
       "    }\n",
       "</style>\n",
       "<table border=\"1\" class=\"dataframe\">\n",
       "  <thead>\n",
       "    <tr style=\"text-align: right;\">\n",
       "      <th></th>\n",
       "      <th>spectral_centroid</th>\n",
       "      <th>spectral_bandwidth</th>\n",
       "      <th>zero_crossing_rate</th>\n",
       "      <th>rms</th>\n",
       "      <th>spectral_rolloff</th>\n",
       "      <th>mfcc_mean_1</th>\n",
       "      <th>mfcc_mean_2</th>\n",
       "      <th>mfcc_mean_3</th>\n",
       "      <th>chroma_mean_1</th>\n",
       "      <th>chroma_mean_2</th>\n",
       "      <th>tempo</th>\n",
       "      <th>contrast_mean_1</th>\n",
       "      <th>contrast_mean_2</th>\n",
       "      <th>tonnetz_mean_1</th>\n",
       "      <th>tonnetz_mean_2</th>\n",
       "      <th>flatness_mean</th>\n",
       "      <th>filename</th>\n",
       "      <th>genre</th>\n",
       "    </tr>\n",
       "  </thead>\n",
       "  <tbody>\n",
       "    <tr>\n",
       "      <th>0</th>\n",
       "      <td>1451.862124</td>\n",
       "      <td>1920.270843</td>\n",
       "      <td>0.051224</td>\n",
       "      <td>0.050480</td>\n",
       "      <td>3047.431199</td>\n",
       "      <td>-298.756134</td>\n",
       "      <td>112.076279</td>\n",
       "      <td>6.488818</td>\n",
       "      <td>0.117655</td>\n",
       "      <td>0.133911</td>\n",
       "      <td>[129.19921875]</td>\n",
       "      <td>19.667917</td>\n",
       "      <td>20.515668</td>\n",
       "      <td>0.008745</td>\n",
       "      <td>0.028968</td>\n",
       "      <td>0.001261</td>\n",
       "      <td>m00002.wav</td>\n",
       "      <td>jazz</td>\n",
       "    </tr>\n",
       "    <tr>\n",
       "      <th>1</th>\n",
       "      <td>2624.814629</td>\n",
       "      <td>2709.897108</td>\n",
       "      <td>0.120217</td>\n",
       "      <td>0.142927</td>\n",
       "      <td>5605.777240</td>\n",
       "      <td>-69.630653</td>\n",
       "      <td>83.072273</td>\n",
       "      <td>-16.599928</td>\n",
       "      <td>0.286717</td>\n",
       "      <td>0.369671</td>\n",
       "      <td>[129.19921875]</td>\n",
       "      <td>29.752017</td>\n",
       "      <td>16.141935</td>\n",
       "      <td>-0.057095</td>\n",
       "      <td>-0.026923</td>\n",
       "      <td>0.038256</td>\n",
       "      <td>m00072.wav</td>\n",
       "      <td>disco</td>\n",
       "    </tr>\n",
       "    <tr>\n",
       "      <th>2</th>\n",
       "      <td>1174.324843</td>\n",
       "      <td>1518.126210</td>\n",
       "      <td>0.066340</td>\n",
       "      <td>0.009491</td>\n",
       "      <td>2083.791215</td>\n",
       "      <td>-436.858215</td>\n",
       "      <td>154.080429</td>\n",
       "      <td>-19.861961</td>\n",
       "      <td>0.258693</td>\n",
       "      <td>0.249861</td>\n",
       "      <td>[123.046875]</td>\n",
       "      <td>19.732632</td>\n",
       "      <td>20.660649</td>\n",
       "      <td>0.301314</td>\n",
       "      <td>-0.125383</td>\n",
       "      <td>0.000978</td>\n",
       "      <td>m00102.wav</td>\n",
       "      <td>classical</td>\n",
       "    </tr>\n",
       "    <tr>\n",
       "      <th>3</th>\n",
       "      <td>2549.269757</td>\n",
       "      <td>2485.524548</td>\n",
       "      <td>0.115834</td>\n",
       "      <td>0.184340</td>\n",
       "      <td>5583.144894</td>\n",
       "      <td>-91.983772</td>\n",
       "      <td>87.640099</td>\n",
       "      <td>-2.066796</td>\n",
       "      <td>0.432902</td>\n",
       "      <td>0.321649</td>\n",
       "      <td>[123.046875]</td>\n",
       "      <td>16.843315</td>\n",
       "      <td>15.728975</td>\n",
       "      <td>-0.014465</td>\n",
       "      <td>0.021814</td>\n",
       "      <td>0.009791</td>\n",
       "      <td>m00096.wav</td>\n",
       "      <td>disco</td>\n",
       "    </tr>\n",
       "    <tr>\n",
       "      <th>4</th>\n",
       "      <td>1811.410394</td>\n",
       "      <td>2019.300257</td>\n",
       "      <td>0.072150</td>\n",
       "      <td>0.123665</td>\n",
       "      <td>3854.851374</td>\n",
       "      <td>-169.153351</td>\n",
       "      <td>110.459999</td>\n",
       "      <td>-8.576200</td>\n",
       "      <td>0.412044</td>\n",
       "      <td>0.333314</td>\n",
       "      <td>[135.99917763157896]</td>\n",
       "      <td>19.964829</td>\n",
       "      <td>17.050832</td>\n",
       "      <td>-0.055290</td>\n",
       "      <td>0.124234</td>\n",
       "      <td>0.004313</td>\n",
       "      <td>m00039.wav</td>\n",
       "      <td>reggae</td>\n",
       "    </tr>\n",
       "  </tbody>\n",
       "</table>\n",
       "</div>"
      ],
      "text/plain": [
       "   spectral_centroid  spectral_bandwidth  zero_crossing_rate       rms  \\\n",
       "0        1451.862124         1920.270843            0.051224  0.050480   \n",
       "1        2624.814629         2709.897108            0.120217  0.142927   \n",
       "2        1174.324843         1518.126210            0.066340  0.009491   \n",
       "3        2549.269757         2485.524548            0.115834  0.184340   \n",
       "4        1811.410394         2019.300257            0.072150  0.123665   \n",
       "\n",
       "   spectral_rolloff  mfcc_mean_1  mfcc_mean_2  mfcc_mean_3  chroma_mean_1  \\\n",
       "0       3047.431199  -298.756134   112.076279     6.488818       0.117655   \n",
       "1       5605.777240   -69.630653    83.072273   -16.599928       0.286717   \n",
       "2       2083.791215  -436.858215   154.080429   -19.861961       0.258693   \n",
       "3       5583.144894   -91.983772    87.640099    -2.066796       0.432902   \n",
       "4       3854.851374  -169.153351   110.459999    -8.576200       0.412044   \n",
       "\n",
       "   chroma_mean_2                 tempo  contrast_mean_1  contrast_mean_2  \\\n",
       "0       0.133911        [129.19921875]        19.667917        20.515668   \n",
       "1       0.369671        [129.19921875]        29.752017        16.141935   \n",
       "2       0.249861          [123.046875]        19.732632        20.660649   \n",
       "3       0.321649          [123.046875]        16.843315        15.728975   \n",
       "4       0.333314  [135.99917763157896]        19.964829        17.050832   \n",
       "\n",
       "   tonnetz_mean_1  tonnetz_mean_2  flatness_mean    filename      genre  \n",
       "0        0.008745        0.028968       0.001261  m00002.wav       jazz  \n",
       "1       -0.057095       -0.026923       0.038256  m00072.wav      disco  \n",
       "2        0.301314       -0.125383       0.000978  m00102.wav  classical  \n",
       "3       -0.014465        0.021814       0.009791  m00096.wav      disco  \n",
       "4       -0.055290        0.124234       0.004313  m00039.wav     reggae  "
      ]
     },
     "metadata": {},
     "output_type": "display_data"
    },
    {
     "data": {
      "text/html": [
       "<div>\n",
       "<style scoped>\n",
       "    .dataframe tbody tr th:only-of-type {\n",
       "        vertical-align: middle;\n",
       "    }\n",
       "\n",
       "    .dataframe tbody tr th {\n",
       "        vertical-align: top;\n",
       "    }\n",
       "\n",
       "    .dataframe thead th {\n",
       "        text-align: right;\n",
       "    }\n",
       "</style>\n",
       "<table border=\"1\" class=\"dataframe\">\n",
       "  <thead>\n",
       "    <tr style=\"text-align: right;\">\n",
       "      <th></th>\n",
       "      <th>spectral_centroid</th>\n",
       "      <th>spectral_bandwidth</th>\n",
       "      <th>zero_crossing_rate</th>\n",
       "      <th>rms</th>\n",
       "      <th>spectral_rolloff</th>\n",
       "      <th>mfcc_mean_1</th>\n",
       "      <th>mfcc_mean_2</th>\n",
       "      <th>mfcc_mean_3</th>\n",
       "      <th>chroma_mean_1</th>\n",
       "      <th>chroma_mean_2</th>\n",
       "      <th>tempo</th>\n",
       "      <th>contrast_mean_1</th>\n",
       "      <th>contrast_mean_2</th>\n",
       "      <th>tonnetz_mean_1</th>\n",
       "      <th>tonnetz_mean_2</th>\n",
       "      <th>flatness_mean</th>\n",
       "      <th>filename</th>\n",
       "      <th>genre</th>\n",
       "    </tr>\n",
       "  </thead>\n",
       "  <tbody>\n",
       "    <tr>\n",
       "      <th>100</th>\n",
       "      <td>1525.791709</td>\n",
       "      <td>1588.217850</td>\n",
       "      <td>0.091590</td>\n",
       "      <td>0.038885</td>\n",
       "      <td>2733.184659</td>\n",
       "      <td>-246.158646</td>\n",
       "      <td>149.428665</td>\n",
       "      <td>-41.988865</td>\n",
       "      <td>0.337580</td>\n",
       "      <td>0.227290</td>\n",
       "      <td>[107.666015625]</td>\n",
       "      <td>17.927492</td>\n",
       "      <td>14.882813</td>\n",
       "      <td>0.076234</td>\n",
       "      <td>0.171108</td>\n",
       "      <td>0.006208</td>\n",
       "      <td>m00971.wav</td>\n",
       "      <td>NaN</td>\n",
       "    </tr>\n",
       "    <tr>\n",
       "      <th>101</th>\n",
       "      <td>3669.810467</td>\n",
       "      <td>3295.063699</td>\n",
       "      <td>0.161797</td>\n",
       "      <td>0.259782</td>\n",
       "      <td>7876.372739</td>\n",
       "      <td>-8.573005</td>\n",
       "      <td>54.295788</td>\n",
       "      <td>20.964115</td>\n",
       "      <td>0.344232</td>\n",
       "      <td>0.477342</td>\n",
       "      <td>[129.19921875]</td>\n",
       "      <td>20.139990</td>\n",
       "      <td>15.154152</td>\n",
       "      <td>0.089953</td>\n",
       "      <td>-0.046085</td>\n",
       "      <td>0.088763</td>\n",
       "      <td>m00973.wav</td>\n",
       "      <td>NaN</td>\n",
       "    </tr>\n",
       "    <tr>\n",
       "      <th>102</th>\n",
       "      <td>3941.417697</td>\n",
       "      <td>3361.641125</td>\n",
       "      <td>0.167480</td>\n",
       "      <td>0.240724</td>\n",
       "      <td>8260.423162</td>\n",
       "      <td>-56.153061</td>\n",
       "      <td>36.448502</td>\n",
       "      <td>11.979400</td>\n",
       "      <td>0.456496</td>\n",
       "      <td>0.418169</td>\n",
       "      <td>[103.359375]</td>\n",
       "      <td>20.434569</td>\n",
       "      <td>17.928657</td>\n",
       "      <td>-0.072740</td>\n",
       "      <td>-0.028204</td>\n",
       "      <td>0.089354</td>\n",
       "      <td>m00988.wav</td>\n",
       "      <td>NaN</td>\n",
       "    </tr>\n",
       "    <tr>\n",
       "      <th>103</th>\n",
       "      <td>983.971719</td>\n",
       "      <td>1404.408040</td>\n",
       "      <td>0.044217</td>\n",
       "      <td>0.017138</td>\n",
       "      <td>1853.129475</td>\n",
       "      <td>-406.846680</td>\n",
       "      <td>163.081345</td>\n",
       "      <td>-2.372813</td>\n",
       "      <td>0.129482</td>\n",
       "      <td>0.094226</td>\n",
       "      <td>[95.703125]</td>\n",
       "      <td>20.021782</td>\n",
       "      <td>22.180632</td>\n",
       "      <td>-0.296795</td>\n",
       "      <td>0.115391</td>\n",
       "      <td>0.000302</td>\n",
       "      <td>m00991.wav</td>\n",
       "      <td>NaN</td>\n",
       "    </tr>\n",
       "    <tr>\n",
       "      <th>104</th>\n",
       "      <td>1253.032399</td>\n",
       "      <td>1371.258170</td>\n",
       "      <td>0.071629</td>\n",
       "      <td>0.066664</td>\n",
       "      <td>2292.769869</td>\n",
       "      <td>-223.187332</td>\n",
       "      <td>163.253967</td>\n",
       "      <td>-34.412884</td>\n",
       "      <td>0.236390</td>\n",
       "      <td>0.252162</td>\n",
       "      <td>[151.99908088235293]</td>\n",
       "      <td>21.479592</td>\n",
       "      <td>18.055209</td>\n",
       "      <td>0.001993</td>\n",
       "      <td>0.099011</td>\n",
       "      <td>0.000566</td>\n",
       "      <td>m00995.wav</td>\n",
       "      <td>NaN</td>\n",
       "    </tr>\n",
       "  </tbody>\n",
       "</table>\n",
       "</div>"
      ],
      "text/plain": [
       "     spectral_centroid  spectral_bandwidth  zero_crossing_rate       rms  \\\n",
       "100        1525.791709         1588.217850            0.091590  0.038885   \n",
       "101        3669.810467         3295.063699            0.161797  0.259782   \n",
       "102        3941.417697         3361.641125            0.167480  0.240724   \n",
       "103         983.971719         1404.408040            0.044217  0.017138   \n",
       "104        1253.032399         1371.258170            0.071629  0.066664   \n",
       "\n",
       "     spectral_rolloff  mfcc_mean_1  mfcc_mean_2  mfcc_mean_3  chroma_mean_1  \\\n",
       "100       2733.184659  -246.158646   149.428665   -41.988865       0.337580   \n",
       "101       7876.372739    -8.573005    54.295788    20.964115       0.344232   \n",
       "102       8260.423162   -56.153061    36.448502    11.979400       0.456496   \n",
       "103       1853.129475  -406.846680   163.081345    -2.372813       0.129482   \n",
       "104       2292.769869  -223.187332   163.253967   -34.412884       0.236390   \n",
       "\n",
       "     chroma_mean_2                 tempo  contrast_mean_1  contrast_mean_2  \\\n",
       "100       0.227290       [107.666015625]        17.927492        14.882813   \n",
       "101       0.477342        [129.19921875]        20.139990        15.154152   \n",
       "102       0.418169          [103.359375]        20.434569        17.928657   \n",
       "103       0.094226           [95.703125]        20.021782        22.180632   \n",
       "104       0.252162  [151.99908088235293]        21.479592        18.055209   \n",
       "\n",
       "     tonnetz_mean_1  tonnetz_mean_2  flatness_mean    filename genre  \n",
       "100        0.076234        0.171108       0.006208  m00971.wav   NaN  \n",
       "101        0.089953       -0.046085       0.088763  m00973.wav   NaN  \n",
       "102       -0.072740       -0.028204       0.089354  m00988.wav   NaN  \n",
       "103       -0.296795        0.115391       0.000302  m00991.wav   NaN  \n",
       "104        0.001993        0.099011       0.000566  m00995.wav   NaN  "
      ]
     },
     "metadata": {},
     "output_type": "display_data"
    }
   ],
   "source": [
    "features_df = pd.concat([labeled_features_df, unlabeled_features_df])\n",
    "\n",
    "display(features_df.head())\n",
    "display(features_df.tail())"
   ]
  },
  {
   "cell_type": "code",
   "execution_count": 8,
   "metadata": {},
   "outputs": [],
   "source": [
    "labeled_numeric = labeled_features_df.select_dtypes(include=[np.number])\n",
    "unlabeled_numeric = unlabeled_features_df.select_dtypes(include=[np.number])\n",
    "\n",
    "scaler = StandardScaler()\n",
    "labeled_scaled = scaler.fit_transform(labeled_numeric)\n",
    "unlabeled_scaled = scaler.transform(unlabeled_numeric)"
   ]
  },
  {
   "cell_type": "code",
   "execution_count": 9,
   "metadata": {},
   "outputs": [],
   "source": [
    "minmax_scaler = MinMaxScaler(feature_range=(1,2))\n",
    "\n",
    "labeled_minmax = minmax_scaler.fit_transform(labeled_numeric)\n",
    "unlabeled_minmax = minmax_scaler.transform(unlabeled_numeric)"
   ]
  },
  {
   "cell_type": "markdown",
   "metadata": {},
   "source": [
    "# 3. Unsupervised Learning"
   ]
  },
  {
   "cell_type": "markdown",
   "metadata": {},
   "source": [
    "## 3.1 KMeans "
   ]
  },
  {
   "cell_type": "code",
   "execution_count": 39,
   "metadata": {},
   "outputs": [],
   "source": [
    "class KMeansClustering:\n",
    "    def __init__(self, unlabeled_data, labeled_data, unlabled_df, labeled_df):\n",
    "        self.unlabeled_data = unlabeled_data\n",
    "        self.labeled_data = labeled_data\n",
    "        self.unlabeled_df = unlabled_df\n",
    "        self.labeled_df = labeled_df\n",
    "        \n",
    "    def finding_k(self, k_range):\n",
    "        inertia = []\n",
    "        \n",
    "        for k in range(k_range[0], k_range[1]):\n",
    "            kmeans = KMeans(n_clusters=k, random_state=42)\n",
    "            kmeans.fit(self.unlabeled_data)\n",
    "            inertia.append(kmeans.inertia_)\n",
    "            \n",
    "        self._plot_elbow(k_range, inertia)\n",
    "        \n",
    "    def create_kmeans(self, k):\n",
    "        kmeans = KMeans(n_clusters=k, random_state=42)\n",
    "        kmeans.fit(self.unlabeled_data)\n",
    "        self.unlabeled_df['cluster'] = kmeans.labels_\n",
    "        \n",
    "        kmeans = KMeans(n_clusters=k, random_state=42)\n",
    "        kmeans.fit(self.labeled_data)\n",
    "        self.labeled_df['cluster'] = kmeans.labels_\n",
    "        \n",
    "        cluster_to_genre = self._map_clusters_to_genres()\n",
    "        \n",
    "        self.unlabeled_df['genre'] = self.unlabeled_df['cluster'].map(cluster_to_genre)\n",
    "        self.unlabeled_df.drop('cluster', axis=1, inplace=True)\n",
    "        \n",
    "        return self.unlabeled_df, self.labeled_df\n",
    "    \n",
    "    def to_csv(self):\n",
    "        self.csv_file = self.unlabeled_df[['filename', 'genre']]\n",
    "        self.csv_file.to_csv('Datasets/predictions.csv', index=False)\n",
    "    \n",
    "    def _plot_elbow(self, k_range, inertia):\n",
    "        plt.figure(figsize=(10, 5))\n",
    "        plt.plot(range(k_range[0], k_range[1]), inertia, marker='o')\n",
    "        plt.title('Elbow Method')\n",
    "        plt.xlabel('Number of clusters')\n",
    "        plt.ylabel('Inertia')\n",
    "        plt.show()\n",
    "        \n",
    "    def _map_clusters_to_genres(self):\n",
    "        cluster_genre_mapping = (self.labeled_df.groupby('cluster')['genre'].agg(lambda x:x.mode()[0]).to_dict())\n",
    "        \n",
    "        return cluster_genre_mapping"
   ]
  },
  {
   "cell_type": "code",
   "execution_count": 40,
   "metadata": {},
   "outputs": [
    {
     "data": {
      "image/png": "[encoded data removed]",
      "text/plain": [
       "<Figure size 1000x500 with 1 Axes>"
      ]
     },
     "metadata": {},
     "output_type": "display_data"
    }
   ],
   "source": [
    "kmc = KMeansClustering(unlabeled_scaled, labeled_scaled, unlabeled_features_df, labeled_features_df)\n",
    "\n",
    "kmc.finding_k([2, 11])\n",
    "\n",
    "kmc.create_kmeans(3)\n",
    "kmc.to_csv()"
   ]
  },
  {
   "cell_type": "code",
   "execution_count": 12,
   "metadata": {},
   "outputs": [],
   "source": [
    "inertia = []\n",
    "silhouette = []\n",
    "k_values = range(3, 10)\n",
    "\n",
    "for k in k_values:\n",
    "    kmeans = KMeans(n_clusters=k, random_state=42)\n",
    "    kmeans.fit(unlabeled_scaled)\n",
    "    inertia.append(kmeans.inertia_)\n",
    "    silhouette.append(silhouette_score(unlabeled_scaled, kmeans.labels_))"
   ]
  },
  {
   "cell_type": "markdown",
   "metadata": {},
   "source": [
    "### Mathematical Operation of KMeans using a small dataset"
   ]
  },
  {
   "cell_type": "markdown",
   "metadata": {},
   "source": [
    "\n",
    "To identify the optimal number of clusters, we employed the Elbow Method and Silhouette Analysis.\n",
    "\n",
    "Elbow Method: This technique evaluates the inertia (within-cluster sum of squares) across a range of cluster numbers. By plotting the inertia values against the number of clusters, we identify the point at which the rate of decrease in inertia begins to slow down, forming an “elbow” shape. This indicates the optimal cluster count.\n",
    "source:https://medium.com/@zalarushirajsinh07/the-elbow-method-finding-the-optimal-number-of-clusters-d297f5aeb189\n",
    "\n",
    "Silhouette Score: In addition, we plotted the silhouette score, which measures how similar an object is to its own cluster compared to other clusters. Higher silhouette values indicate better-defined clusters. \n",
    "source: https://scikit-learn.org/1.5/auto_examples/cluster/plot_kmeans_silhouette_analysis.html\n"
   ]
  },
  {
   "cell_type": "markdown",
   "metadata": {},
   "source": [
    "We iterated over cluster values ranging from 3 to 9. For each cluster count, a KMeans model was fitted to the scaled feature data of the “unlabeled” dataset. Inertia and silhouette scores were recorded for each iteration and visualized to assess the ideal number of clusters."
   ]
  },
  {
   "cell_type": "code",
   "execution_count": 15,
   "metadata": {},
   "outputs": [
    {
     "data": {
      "image/png": "[encoded data removed]",
      "text/plain": [
       "<Figure size 1200x500 with 2 Axes>"
      ]
     },
     "metadata": {},
     "output_type": "display_data"
    }
   ],
   "source": [
    "plt.figure(figsize=(12, 5))\n",
    "plt.subplot(1, 2, 1)\n",
    "plt.plot(k_values, inertia, 'o-')\n",
    "plt.xlabel('Number of Cluster')\n",
    "plt.ylabel('Inertia')\n",
    "plt.title('Elbow-Method')\n",
    "\n",
    "plt.subplot(1, 2, 2)\n",
    "plt.plot(k_values, silhouette, 'o-')\n",
    "plt.xlabel('Number of Cluster')\n",
    "plt.ylabel('Silhouette-Score')\n",
    "plt.title('Silhouette-Method')\n",
    "plt.show()\n",
    "\n"
   ]
  },
  {
   "cell_type": "markdown",
   "metadata": {},
   "source": [
    "From the elbow-method plot, we can determine that either four or five clusters gives the best results. To determine which of these is best we use the silhouette-method, where the higher the value the better, from this method we can conclude that four clusters is better than five clusters."
   ]
  },
  {
   "cell_type": "markdown",
   "metadata": {},
   "source": [
    "Our conclusion also aligns with the argmax calculation of the silhouette score. "
   ]
  },
  {
   "cell_type": "markdown",
   "metadata": {},
   "source": [
    "### 3.1.1 Raw"
   ]
  },
  {
   "cell_type": "code",
   "execution_count": 13,
   "metadata": {},
   "outputs": [
    {
     "name": "stdout",
     "output_type": "stream",
     "text": [
      "Silhouette Score (Raw K-Means): 0.2713\n"
     ]
    }
   ],
   "source": [
    "from sklearn.cluster import KMeans\n",
    "from sklearn.metrics import silhouette_score\n",
    "from scipy.spatial.distance import cdist\n",
    "\n",
    "optimal_k = 4\n",
    "\n",
    "kmeans_unlabeled = KMeans(n_clusters=optimal_k, random_state=42)\n",
    "kmeans_unlabeled.fit(unlabeled_scaled)\n",
    "unlabeled_cluster_labels = kmeans_unlabeled.labels_\n",
    "\n",
    "#not all of it might be necessary here but i will leave it for now\n",
    "unlabeled_centroids = kmeans_unlabeled.cluster_centers_\n",
    "\n",
    "kmeans_labeled = KMeans(n_clusters=10, random_state=42)\n",
    "kmeans_labeled.fit(labeled_scaled)\n",
    "labeled_centroids = kmeans_labeled.cluster_centers_\n",
    "\n",
    "labeled_cluster_labels = kmeans_labeled.labels_\n",
    "labeled_data_with_clusters = pd.DataFrame({'Cluster': labeled_cluster_labels, 'genre': labeled_features_df['genre']})\n",
    "\n",
    "cluster_to_genre = (labeled_data_with_clusters.groupby('Cluster')['genre'].agg(lambda x:x.value_counts().idxmax()).to_dict())\n",
    "\n",
    "distances = cdist(unlabeled_centroids, labeled_centroids, metric='euclidean')\n",
    "unlabeled_to_labeled_map = np.argmin(distances, axis=1)\n",
    "\n",
    "unlabeled_to_genre_map = {i: cluster_to_genre[unlabeled_to_labeled_map[i]] for i in range(optimal_k)}\n",
    "    \n",
    "unlabeled_cluster_labels = kmeans_unlabeled.labels_  \n",
    "predicted_genres = [unlabeled_to_genre_map[cluster] for cluster in unlabeled_cluster_labels]\n",
    "\n",
    "score_raw = silhouette_score(unlabeled_scaled, unlabeled_cluster_labels)\n",
    "print(f\"Silhouette Score (Raw K-Means): {score_raw:.4f}\")"
   ]
  },
  {
   "cell_type": "code",
   "execution_count": 25,
   "metadata": {},
   "outputs": [
    {
     "data": {
      "image/png": "[encoded data removed]",
      "text/plain": [
       "<Figure size 640x480 with 1 Axes>"
      ]
     },
     "metadata": {},
     "output_type": "display_data"
    }
   ],
   "source": [
    "sns.scatterplot(x=unlabeled_scaled[:, 0], y=unlabeled_scaled[:, 1], hue=unlabeled_cluster_labels, palette='viridis')\n",
    "plt.title('Clusters in Unlabeled Dataset')\n",
    "plt.xlabel('Feature 1')\n",
    "plt.ylabel('Feature 2')\n",
    "plt.show()"
   ]
  },
  {
   "cell_type": "markdown",
   "metadata": {},
   "source": [
    "they want us to display shit, no idea what we could do here; i did one plot right above"
   ]
  },
  {
   "cell_type": "code",
   "execution_count": 48,
   "metadata": {},
   "outputs": [
    {
     "data": {
      "text/html": [
       "<div>\n",
       "<style scoped>\n",
       "    .dataframe tbody tr th:only-of-type {\n",
       "        vertical-align: middle;\n",
       "    }\n",
       "\n",
       "    .dataframe tbody tr th {\n",
       "        vertical-align: top;\n",
       "    }\n",
       "\n",
       "    .dataframe thead th {\n",
       "        text-align: right;\n",
       "    }\n",
       "</style>\n",
       "<table border=\"1\" class=\"dataframe\">\n",
       "  <thead>\n",
       "    <tr style=\"text-align: right;\">\n",
       "      <th></th>\n",
       "      <th>filename</th>\n",
       "      <th>genre</th>\n",
       "    </tr>\n",
       "  </thead>\n",
       "  <tbody>\n",
       "    <tr>\n",
       "      <th>0</th>\n",
       "      <td>m00003.wav</td>\n",
       "      <td>hiphop</td>\n",
       "    </tr>\n",
       "    <tr>\n",
       "      <th>1</th>\n",
       "      <td>m00012.wav</td>\n",
       "      <td>hiphop</td>\n",
       "    </tr>\n",
       "    <tr>\n",
       "      <th>2</th>\n",
       "      <td>m00013.wav</td>\n",
       "      <td>jazz</td>\n",
       "    </tr>\n",
       "    <tr>\n",
       "      <th>3</th>\n",
       "      <td>m00043.wav</td>\n",
       "      <td>hiphop</td>\n",
       "    </tr>\n",
       "    <tr>\n",
       "      <th>4</th>\n",
       "      <td>m00044.wav</td>\n",
       "      <td>hiphop</td>\n",
       "    </tr>\n",
       "    <tr>\n",
       "      <th>...</th>\n",
       "      <td>...</td>\n",
       "      <td>...</td>\n",
       "    </tr>\n",
       "    <tr>\n",
       "      <th>100</th>\n",
       "      <td>m00971.wav</td>\n",
       "      <td>classical</td>\n",
       "    </tr>\n",
       "    <tr>\n",
       "      <th>101</th>\n",
       "      <td>m00973.wav</td>\n",
       "      <td>pop</td>\n",
       "    </tr>\n",
       "    <tr>\n",
       "      <th>102</th>\n",
       "      <td>m00988.wav</td>\n",
       "      <td>pop</td>\n",
       "    </tr>\n",
       "    <tr>\n",
       "      <th>103</th>\n",
       "      <td>m00991.wav</td>\n",
       "      <td>jazz</td>\n",
       "    </tr>\n",
       "    <tr>\n",
       "      <th>104</th>\n",
       "      <td>m00995.wav</td>\n",
       "      <td>classical</td>\n",
       "    </tr>\n",
       "  </tbody>\n",
       "</table>\n",
       "<p>105 rows × 2 columns</p>\n",
       "</div>"
      ],
      "text/plain": [
       "       filename      genre\n",
       "0    m00003.wav     hiphop\n",
       "1    m00012.wav     hiphop\n",
       "2    m00013.wav       jazz\n",
       "3    m00043.wav     hiphop\n",
       "4    m00044.wav     hiphop\n",
       "..          ...        ...\n",
       "100  m00971.wav  classical\n",
       "101  m00973.wav        pop\n",
       "102  m00988.wav        pop\n",
       "103  m00991.wav       jazz\n",
       "104  m00995.wav  classical\n",
       "\n",
       "[105 rows x 2 columns]"
      ]
     },
     "metadata": {},
     "output_type": "display_data"
    }
   ],
   "source": [
    "pred_df = pd.DataFrame({'filename': unlabeled_files, 'genre': predicted_genres})\n",
    "\n",
    "display(pred_df)"
   ]
  },
  {
   "cell_type": "code",
   "execution_count": 15,
   "metadata": {},
   "outputs": [],
   "source": [
    "pred_df.to_csv('submissionRaw.csv', index=False)"
   ]
  },
  {
   "cell_type": "markdown",
   "metadata": {},
   "source": [
    "i guess we dont actually want to predict using kmeans raw"
   ]
  },
  {
   "cell_type": "markdown",
   "metadata": {},
   "source": [
    "### 3.1.2 PCA"
   ]
  },
  {
   "cell_type": "code",
   "execution_count": 27,
   "metadata": {},
   "outputs": [],
   "source": [
    "pca = PCA()\n",
    "pca.fit(unlabeled_scaled)\n",
    "\n",
    "explained_variance = pca.explained_variance_ratio_\n",
    "cumulative_variance = np.cumsum(explained_variance)"
   ]
  },
  {
   "cell_type": "code",
   "execution_count": 28,
   "metadata": {},
   "outputs": [
    {
     "data": {
      "image/png": "[encoded data removed]",
      "text/plain": [
       "<Figure size 1000x600 with 1 Axes>"
      ]
     },
     "metadata": {},
     "output_type": "display_data"
    }
   ],
   "source": [
    "plt.figure(figsize=(10, 6))\n",
    "plt.plot(range(1, len(cumulative_variance)+1), cumulative_variance, marker='o', linestyle='--')\n",
    "plt.title('PCA - Cumulative Explained Variance')\n",
    "plt.xlabel('Number of Components')\n",
    "plt.ylabel('Cumulative Explained Variance')\n",
    "plt.grid(True)\n",
    "plt.show()"
   ]
  },
  {
   "cell_type": "code",
   "execution_count": 29,
   "metadata": {},
   "outputs": [
    {
     "name": "stdout",
     "output_type": "stream",
     "text": [
      "Number of PCA components to retain 90% variance: 5\n"
     ]
    }
   ],
   "source": [
    "n_components_pca = np.argmax(cumulative_variance >= 0.90) + 1\n",
    "print(f'Number of PCA components to retain 90% variance: {n_components_pca}')"
   ]
  },
  {
   "cell_type": "code",
   "execution_count": 30,
   "metadata": {},
   "outputs": [],
   "source": [
    "pca = PCA(n_components=n_components_pca, random_state=42)\n",
    "unlabeled_pca = pca.fit_transform(unlabeled_scaled)"
   ]
  },
  {
   "cell_type": "markdown",
   "metadata": {},
   "source": [
    "#### Clustering with PCA"
   ]
  },
  {
   "cell_type": "code",
   "execution_count": 37,
   "metadata": {},
   "outputs": [
    {
     "name": "stdout",
     "output_type": "stream",
     "text": [
      "Silhouette: 0.3180\n",
      "Inertia : 577.7345\n"
     ]
    }
   ],
   "source": [
    "kmeans_pca = KMeans(n_clusters=optimal_k, init='k-means++', random_state=42)\n",
    "kmeans_pca.fit(unlabeled_pca)\n",
    "labels_pca = kmeans_pca.labels_\n",
    "\n",
    "silhouette_pca = silhouette_score(unlabeled_pca, labels_pca)\n",
    "inertia_pca = kmeans_pca.inertia_\n",
    "print(f'Silhouette: {silhouette_pca:.4f}')\n",
    "print(f'Inertia : {inertia_pca:.4f}')"
   ]
  },
  {
   "cell_type": "code",
   "execution_count": 42,
   "metadata": {},
   "outputs": [
    {
     "data": {
      "image/png": "[encoded data removed]",
      "text/plain": [
       "<Figure size 1000x600 with 1 Axes>"
      ]
     },
     "metadata": {},
     "output_type": "display_data"
    }
   ],
   "source": [
    "plt.figure(figsize=(10, 6))\n",
    "sns.scatterplot(x=unlabeled_pca[:, 0], y=unlabeled_pca[:, 1], hue=labels_pca, palette='viridis')\n",
    "plt.title('K-Means Clusters on PCA-Reduced Data')\n",
    "plt.xlabel('Principal Component 1')\n",
    "plt.ylabel('Principal Component 2')\n",
    "plt.legend(title='Cluster')\n",
    "plt.show()"
   ]
  },
  {
   "cell_type": "markdown",
   "metadata": {},
   "source": [
    "CLusters are somewhat distinct from each other which i think is a good sign"
   ]
  },
  {
   "cell_type": "code",
   "execution_count": 16,
   "metadata": {},
   "outputs": [],
   "source": [
    "#dunno about this - i kept have a look; its the same code as Lars did for predicting with raw knn - just adapted with PCA....im not sure whether the assignment wants us to \n",
    "# predict using all three \"datasets\" (raw, pca, nmf) or just one final prediction with the beste  one (currently we have both if we remove the \"#\" here and for nmf)\n",
    "\n",
    "# pca = PCA(n_components=10, random_state=42)\n",
    "# labeled_pca = pca.fit_transform(labeled_scaled)\n",
    "# unlabeled_pca = pca.transform(unlabeled_scaled)\n",
    "\n",
    "# kmeans_labeled_pca = KMeans(n_clusters=10, random_state=42)\n",
    "# kmeans_labeled_pca.fit(labeled_pca)\n",
    "# labeled_pca_centroids = kmeans_labeled_pca.cluster_centers_\n",
    "# labeled_pca_cluster_labels = kmeans_labeled_pca.labels_\n",
    "\n",
    "# labeled_pca_data_with_clusters = pd.DataFrame({'Cluster': labeled_pca_cluster_labels, 'genre': labeled_features_df['genre']})\n",
    "\n",
    "# cluster_to_genre_pca = (labeled_pca_data_with_clusters.groupby('Cluster')['genre'].agg(lambda x: x.value_counts().idxmax()).to_dict())\n",
    "\n",
    "# kmeans_unlabeled_pca = KMeans(n_clusters=optimal_k, random_state=42)\n",
    "# kmeans_unlabeled_pca.fit(unlabeled_pca)\n",
    "# pca_labels = kmeans_unlabeled_pca.labels_\n",
    "# unlabeled_pca_centroids = kmeans_unlabeled_pca.cluster_centers_\n",
    "# unlabeled_pca_cluster_labels = kmeans_unlabeled_pca.labels_\n",
    "\n",
    "# distances_pca = cdist(unlabeled_pca_centroids, labeled_pca_centroids, metric='euclidean')\n",
    "# unlabeled_pca_to_labeled_map = np.argmin(distances_pca, axis=1)\n",
    "\n",
    "# unlabeled_pca_to_genre_map = {i: cluster_to_genre_pca[unlabeled_pca_to_labeled_map[i]] for i in range(optimal_k)}\n",
    "\n",
    "# predicted_genres_pca = [unlabeled_pca_to_genre_map[cluster] for cluster in unlabeled_pca_cluster_labels]\n",
    "\n",
    "# score_pca = silhouette_score(unlabeled_pca, pca_labels)"
   ]
  },
  {
   "cell_type": "code",
   "execution_count": 17,
   "metadata": {},
   "outputs": [],
   "source": [
    "#pred_df_pca = pd.DataFrame({'filename': unlabeled_files,'genre': predicted_genres_pca})"
   ]
  },
  {
   "cell_type": "code",
   "execution_count": 18,
   "metadata": {},
   "outputs": [
    {
     "data": {
      "text/html": [
       "<div>\n",
       "<style scoped>\n",
       "    .dataframe tbody tr th:only-of-type {\n",
       "        vertical-align: middle;\n",
       "    }\n",
       "\n",
       "    .dataframe tbody tr th {\n",
       "        vertical-align: top;\n",
       "    }\n",
       "\n",
       "    .dataframe thead th {\n",
       "        text-align: right;\n",
       "    }\n",
       "</style>\n",
       "<table border=\"1\" class=\"dataframe\">\n",
       "  <thead>\n",
       "    <tr style=\"text-align: right;\">\n",
       "      <th></th>\n",
       "      <th>filename</th>\n",
       "      <th>genre</th>\n",
       "    </tr>\n",
       "  </thead>\n",
       "  <tbody>\n",
       "    <tr>\n",
       "      <th>0</th>\n",
       "      <td>m00003.wav</td>\n",
       "      <td>hiphop</td>\n",
       "    </tr>\n",
       "    <tr>\n",
       "      <th>1</th>\n",
       "      <td>m00012.wav</td>\n",
       "      <td>hiphop</td>\n",
       "    </tr>\n",
       "    <tr>\n",
       "      <th>2</th>\n",
       "      <td>m00013.wav</td>\n",
       "      <td>classical</td>\n",
       "    </tr>\n",
       "    <tr>\n",
       "      <th>3</th>\n",
       "      <td>m00043.wav</td>\n",
       "      <td>hiphop</td>\n",
       "    </tr>\n",
       "    <tr>\n",
       "      <th>4</th>\n",
       "      <td>m00044.wav</td>\n",
       "      <td>hiphop</td>\n",
       "    </tr>\n",
       "  </tbody>\n",
       "</table>\n",
       "</div>"
      ],
      "text/plain": [
       "     filename      genre\n",
       "0  m00003.wav     hiphop\n",
       "1  m00012.wav     hiphop\n",
       "2  m00013.wav  classical\n",
       "3  m00043.wav     hiphop\n",
       "4  m00044.wav     hiphop"
      ]
     },
     "metadata": {},
     "output_type": "display_data"
    }
   ],
   "source": [
    "#display(pred_df_pca.head())"
   ]
  },
  {
   "cell_type": "code",
   "execution_count": null,
   "metadata": {},
   "outputs": [],
   "source": [
    "#pred_df.to_csv('submissionPCA.csv', index=False)"
   ]
  },
  {
   "cell_type": "markdown",
   "metadata": {},
   "source": [
    "#### Theory PCA"
   ]
  },
  {
   "cell_type": "markdown",
   "metadata": {},
   "source": [
    "### 3.1.3 NMF"
   ]
  },
  {
   "cell_type": "code",
   "execution_count": 32,
   "metadata": {},
   "outputs": [],
   "source": [
    "reconstruction_errors = []\n",
    "k_values_nmf = range(2, 20)\n",
    "\n",
    "for k in k_values_nmf:\n",
    "    nmf = NMF(n_components=k, init='random', random_state=42, max_iter=1000)\n",
    "    nmf.fit(unlabeled_minmax)\n",
    "    reconstruction_errors.append(nmf.reconstruction_err_)"
   ]
  },
  {
   "cell_type": "code",
   "execution_count": 33,
   "metadata": {},
   "outputs": [
    {
     "data": {
      "image/png": "[encoded data removed]",
      "text/plain": [
       "<Figure size 1000x600 with 1 Axes>"
      ]
     },
     "metadata": {},
     "output_type": "display_data"
    }
   ],
   "source": [
    "plt.figure(figsize=(10, 6))\n",
    "plt.plot(k_values_nmf, reconstruction_errors, marker='o', linestyle='--')\n",
    "plt.title('NMF - Reconstruction Error')\n",
    "plt.xlabel('Number of Components')\n",
    "plt.ylabel('Reconstruction Error')\n",
    "plt.grid(True)\n",
    "plt.show()"
   ]
  },
  {
   "cell_type": "code",
   "execution_count": 34,
   "metadata": {},
   "outputs": [
    {
     "name": "stdout",
     "output_type": "stream",
     "text": [
      "Number of NMF components selected: 10\n"
     ]
    }
   ],
   "source": [
    "n_components_nmf = 10\n",
    "print(f'Number of NMF components selected: {n_components_nmf}')"
   ]
  },
  {
   "cell_type": "code",
   "execution_count": 36,
   "metadata": {},
   "outputs": [],
   "source": [
    "nmf = NMF(n_components=n_components_nmf, init='random', random_state=42, max_iter=1000)\n",
    "unlabeled_nmf = nmf.fit_transform(unlabeled_minmax)"
   ]
  },
  {
   "cell_type": "markdown",
   "metadata": {},
   "source": [
    "#### Theory NMF"
   ]
  },
  {
   "cell_type": "markdown",
   "metadata": {},
   "source": [
    "#### Clustering with NMF"
   ]
  },
  {
   "cell_type": "code",
   "execution_count": 56,
   "metadata": {},
   "outputs": [
    {
     "name": "stdout",
     "output_type": "stream",
     "text": [
      "Silhouette Score: 0.2097\n",
      "Inertia: 41.5102\n"
     ]
    }
   ],
   "source": [
    "kmeans_nmf = KMeans(n_clusters=optimal_k, random_state=42)\n",
    "kmeans_nmf.fit(unlabeled_nmf)\n",
    "labels_nmf = kmeans_nmf.labels_\n",
    "\n",
    "silhouette_nmf = silhouette_score(unlabeled_nmf, labels_nmf)\n",
    "inertia_nmf = kmeans_nmf.inertia_\n",
    "print(f'Silhouette Score: {silhouette_nmf:.4f}')\n",
    "print(f'Inertia: {inertia_nmf:.4f}')"
   ]
  },
  {
   "cell_type": "code",
   "execution_count": 43,
   "metadata": {},
   "outputs": [
    {
     "data": {
      "image/png": "[encoded data removed]",
      "text/plain": [
       "<Figure size 1000x600 with 1 Axes>"
      ]
     },
     "metadata": {},
     "output_type": "display_data"
    }
   ],
   "source": [
    "nmf_pca = PCA(n_components=2, random_state=42)\n",
    "unlabeled_nmf_pca = nmf_pca.fit_transform(unlabeled_nmf)\n",
    "\n",
    "plt.figure(figsize=(10, 6))\n",
    "sns.scatterplot(x=unlabeled_nmf_pca[:, 0], y=unlabeled_nmf_pca[:, 1], hue=labels_nmf, palette='viridis')\n",
    "plt.title('K-Means Clusters on NMF-Reduced Data')\n",
    "plt.xlabel('NMF-PCA Component 1')\n",
    "plt.ylabel('NMF-PCA Component 2')\n",
    "plt.legend(title='Cluster')\n",
    "plt.show()"
   ]
  },
  {
   "cell_type": "code",
   "execution_count": 19,
   "metadata": {},
   "outputs": [],
   "source": [
    "#dunno about this - i kept have a look; its the same code as Lars did for predicting with raw knn - just adapted with NMF....im not sure whether the assignment wants us to predict \n",
    "# using all three \"datasets\" (raw, pca, nmf) or just one final prediction with the best one (currently we have both if we remove the \"#\" here and for nmf)\n",
    "# from sklearn.decomposition import NMF\n",
    "\n",
    "# nmf_components = 10\n",
    "# nmf = NMF(n_components=nmf_components, init='random', random_state=42)\n",
    "# labeled_nmf = nmf.fit_transform(labeled_minmax) \n",
    "# unlabeled_nmf = nmf.transform(unlabeled_minmax)\n",
    "\n",
    "# kmeans_labeled_nmf = KMeans(n_clusters=10, random_state=42)\n",
    "# kmeans_labeled_nmf.fit(labeled_nmf)\n",
    "\n",
    "\n",
    "# labeled_nmf_centroids = kmeans_labeled_nmf.cluster_centers_\n",
    "# labeled_nmf_cluster_labels = kmeans_labeled_nmf.labels_\n",
    "\n",
    "# labeled_nmf_data_with_clusters = pd.DataFrame({'Cluster': labeled_nmf_cluster_labels, 'genre': labeled_features_df['genre']})\n",
    "\n",
    "# cluster_to_genre_nmf = (labeled_nmf_data_with_clusters.groupby('Cluster')['genre'].agg(lambda x: x.value_counts().idxmax()).to_dict())\n",
    "\n",
    "# kmeans_unlabeled_nmf = KMeans(n_clusters=optimal_k, random_state=42)\n",
    "# kmeans_unlabeled_nmf.fit(unlabeled_nmf)\n",
    "# nmf_labels = kmeans_unlabeled_nmf.labels_\n",
    "\n",
    "# unlabeled_nmf_centroids = kmeans_unlabeled_nmf.cluster_centers_\n",
    "# unlabeled_nmf_cluster_labels = kmeans_unlabeled_nmf.labels_\n",
    "\n",
    "# distances_nmf = cdist(unlabeled_nmf_centroids, labeled_nmf_centroids, metric='euclidean')\n",
    "# unlabeled_nmf_to_labeled_map = np.argmin(distances_nmf, axis=1)\n",
    "\n",
    "# unlabeled_nmf_to_genre_map = {i: cluster_to_genre_nmf[unlabeled_nmf_to_labeled_map[i]] for i in range(optimal_k)}\n",
    "\n",
    "# predicted_genres_nmf = [unlabeled_nmf_to_genre_map[cluster] for cluster in unlabeled_nmf_cluster_labels]\n",
    "\n",
    "# score_nmf = silhouette_score(unlabeled_nmf, nmf_labels)"
   ]
  },
  {
   "cell_type": "code",
   "execution_count": 20,
   "metadata": {},
   "outputs": [],
   "source": [
    "#pred_df_nmf = pd.DataFrame({'filename': unlabeled_files, 'genre': predicted_genres_nmf })"
   ]
  },
  {
   "cell_type": "code",
   "execution_count": 21,
   "metadata": {},
   "outputs": [
    {
     "data": {
      "text/html": [
       "<div>\n",
       "<style scoped>\n",
       "    .dataframe tbody tr th:only-of-type {\n",
       "        vertical-align: middle;\n",
       "    }\n",
       "\n",
       "    .dataframe tbody tr th {\n",
       "        vertical-align: top;\n",
       "    }\n",
       "\n",
       "    .dataframe thead th {\n",
       "        text-align: right;\n",
       "    }\n",
       "</style>\n",
       "<table border=\"1\" class=\"dataframe\">\n",
       "  <thead>\n",
       "    <tr style=\"text-align: right;\">\n",
       "      <th></th>\n",
       "      <th>filename</th>\n",
       "      <th>genre</th>\n",
       "    </tr>\n",
       "  </thead>\n",
       "  <tbody>\n",
       "    <tr>\n",
       "      <th>0</th>\n",
       "      <td>m00003.wav</td>\n",
       "      <td>hiphop</td>\n",
       "    </tr>\n",
       "    <tr>\n",
       "      <th>1</th>\n",
       "      <td>m00012.wav</td>\n",
       "      <td>hiphop</td>\n",
       "    </tr>\n",
       "    <tr>\n",
       "      <th>2</th>\n",
       "      <td>m00013.wav</td>\n",
       "      <td>reggae</td>\n",
       "    </tr>\n",
       "    <tr>\n",
       "      <th>3</th>\n",
       "      <td>m00043.wav</td>\n",
       "      <td>blues</td>\n",
       "    </tr>\n",
       "    <tr>\n",
       "      <th>4</th>\n",
       "      <td>m00044.wav</td>\n",
       "      <td>hiphop</td>\n",
       "    </tr>\n",
       "  </tbody>\n",
       "</table>\n",
       "</div>"
      ],
      "text/plain": [
       "     filename   genre\n",
       "0  m00003.wav  hiphop\n",
       "1  m00012.wav  hiphop\n",
       "2  m00013.wav  reggae\n",
       "3  m00043.wav   blues\n",
       "4  m00044.wav  hiphop"
      ]
     },
     "metadata": {},
     "output_type": "display_data"
    }
   ],
   "source": [
    "#display(pred_df_nmf.head())"
   ]
  },
  {
   "cell_type": "code",
   "execution_count": null,
   "metadata": {},
   "outputs": [],
   "source": [
    "#pred_df.to_csv('submissionNMF.csv', index=False)"
   ]
  },
  {
   "cell_type": "markdown",
   "metadata": {},
   "source": [
    "### 3.1.4 Comparions of PCA and NMF"
   ]
  },
  {
   "cell_type": "markdown",
   "metadata": {},
   "source": [
    "i think this is what the end result has to be -> we do it for all three compare and based on that make one final prediction either with raw data, pca data or nmf data"
   ]
  },
  {
   "cell_type": "code",
   "execution_count": 39,
   "metadata": {},
   "outputs": [
    {
     "name": "stdout",
     "output_type": "stream",
     "text": [
      "Silhouette Score (Original data): 0.2713\n",
      "Inertia (Original data): 730.0912\n",
      "     Method  Silhouette Score     Inertia\n",
      "0  Original          0.271314  730.091162\n",
      "1       PCA          0.317974  577.734547\n",
      "2       NMF          0.209684   41.510215\n"
     ]
    }
   ],
   "source": [
    "silhouette_original = silhouette_score(unlabeled_scaled, unlabeled_cluster_labels)\n",
    "inertia_original = kmeans_unlabeled.inertia_\n",
    "\n",
    "comparison_df = pd.DataFrame({'Method': ['Original', 'PCA', 'NMF'],\n",
    "    'Silhouette Score': [silhouette_original, silhouette_pca, silhouette_nmf],\n",
    "    'Inertia': [inertia_original, inertia_pca, inertia_nmf]\n",
    "})\n",
    "\n",
    "print(comparison_df)"
   ]
  },
  {
   "cell_type": "markdown",
   "metadata": {},
   "source": [
    "not sure if silhouette score is the most important thing but based on silhouette score we would chose pca data and then predict the genres, right? nmf was shit apparently maybe i did something wrong?"
   ]
  },
  {
   "cell_type": "code",
   "execution_count": 52,
   "metadata": {},
   "outputs": [],
   "source": [
    "labeled_pca = pca.transform(labeled_scaled)\n",
    "kmeans_labeled_pca = KMeans(n_clusters=10, random_state=42)\n",
    "kmeans_labeled_pca.fit(labeled_pca)\n",
    "labeled_cluster_labels_pca = kmeans_labeled_pca.labels_\n",
    "\n",
    "labeled_data_with_clusters_pca = pd.DataFrame({'Cluster': labeled_cluster_labels_pca, 'genre': labeled_features_df['genre']})\n",
    "cluster_to_genre_pca = labeled_data_with_clusters_pca.groupby('Cluster')['genre'].agg(lambda x: x.value_counts().idxmax()).to_dict()\n",
    "\n",
    "distances_pca = cdist(kmeans_pca.cluster_centers_, kmeans_labeled_pca.cluster_centers_, metric='euclidean')\n",
    "unlabeled_to_labeled_map_pca = np.argmin(distances_pca, axis=1)\n",
    "unlabeled_to_genre_map_pca = {i: cluster_to_genre_pca[unlabeled_to_labeled_map_pca[i]] for i in range(optimal_k)}\n",
    "\n",
    "predicted_genres_pca = [unlabeled_to_genre_map_pca[cluster] for cluster in labels_pca]"
   ]
  },
  {
   "cell_type": "code",
   "execution_count": 53,
   "metadata": {},
   "outputs": [
    {
     "data": {
      "text/html": [
       "<div>\n",
       "<style scoped>\n",
       "    .dataframe tbody tr th:only-of-type {\n",
       "        vertical-align: middle;\n",
       "    }\n",
       "\n",
       "    .dataframe tbody tr th {\n",
       "        vertical-align: top;\n",
       "    }\n",
       "\n",
       "    .dataframe thead th {\n",
       "        text-align: right;\n",
       "    }\n",
       "</style>\n",
       "<table border=\"1\" class=\"dataframe\">\n",
       "  <thead>\n",
       "    <tr style=\"text-align: right;\">\n",
       "      <th></th>\n",
       "      <th>filename</th>\n",
       "      <th>genre</th>\n",
       "    </tr>\n",
       "  </thead>\n",
       "  <tbody>\n",
       "    <tr>\n",
       "      <th>0</th>\n",
       "      <td>m00003.wav</td>\n",
       "      <td>hiphop</td>\n",
       "    </tr>\n",
       "    <tr>\n",
       "      <th>1</th>\n",
       "      <td>m00012.wav</td>\n",
       "      <td>hiphop</td>\n",
       "    </tr>\n",
       "    <tr>\n",
       "      <th>2</th>\n",
       "      <td>m00013.wav</td>\n",
       "      <td>classical</td>\n",
       "    </tr>\n",
       "    <tr>\n",
       "      <th>3</th>\n",
       "      <td>m00043.wav</td>\n",
       "      <td>hiphop</td>\n",
       "    </tr>\n",
       "    <tr>\n",
       "      <th>4</th>\n",
       "      <td>m00044.wav</td>\n",
       "      <td>hiphop</td>\n",
       "    </tr>\n",
       "    <tr>\n",
       "      <th>...</th>\n",
       "      <td>...</td>\n",
       "      <td>...</td>\n",
       "    </tr>\n",
       "    <tr>\n",
       "      <th>100</th>\n",
       "      <td>m00971.wav</td>\n",
       "      <td>classical</td>\n",
       "    </tr>\n",
       "    <tr>\n",
       "      <th>101</th>\n",
       "      <td>m00973.wav</td>\n",
       "      <td>country</td>\n",
       "    </tr>\n",
       "    <tr>\n",
       "      <th>102</th>\n",
       "      <td>m00988.wav</td>\n",
       "      <td>country</td>\n",
       "    </tr>\n",
       "    <tr>\n",
       "      <th>103</th>\n",
       "      <td>m00991.wav</td>\n",
       "      <td>classical</td>\n",
       "    </tr>\n",
       "    <tr>\n",
       "      <th>104</th>\n",
       "      <td>m00995.wav</td>\n",
       "      <td>classical</td>\n",
       "    </tr>\n",
       "  </tbody>\n",
       "</table>\n",
       "<p>105 rows × 2 columns</p>\n",
       "</div>"
      ],
      "text/plain": [
       "       filename      genre\n",
       "0    m00003.wav     hiphop\n",
       "1    m00012.wav     hiphop\n",
       "2    m00013.wav  classical\n",
       "3    m00043.wav     hiphop\n",
       "4    m00044.wav     hiphop\n",
       "..          ...        ...\n",
       "100  m00971.wav  classical\n",
       "101  m00973.wav    country\n",
       "102  m00988.wav    country\n",
       "103  m00991.wav  classical\n",
       "104  m00995.wav  classical\n",
       "\n",
       "[105 rows x 2 columns]"
      ]
     },
     "metadata": {},
     "output_type": "display_data"
    }
   ],
   "source": [
    "pred_df = pd.DataFrame({'filename': unlabeled_files, 'genre': predicted_genres_pca})\n",
    "display(pred_df)"
   ]
  },
  {
   "cell_type": "markdown",
   "metadata": {},
   "source": []
  },
  {
   "cell_type": "markdown",
   "metadata": {},
   "source": [
    "final prediction with PCA"
   ]
  },
  {
   "cell_type": "code",
   "execution_count": 54,
   "metadata": {},
   "outputs": [],
   "source": [
    "pred_df.to_csv('submission.csv', index=False)"
   ]
  },
  {
   "cell_type": "markdown",
   "metadata": {},
   "source": [
    "# 4. Conclusion"
   ]
  },
  {
   "cell_type": "markdown",
   "metadata": {},
   "source": [
    "# 5. Sources\n",
    "\n",
    "Librosa. (n.d.). Spectral centroid. Retrieved January 2, 2025, from https://librosa.org/doc-playground/0.7.2/generated/librosa.feature.spectral_centroid.html\n",
    "\n",
    "Librosa. (n.d.). Spectral bandwidth. Retrieved January 2, 2025, from https://librosa.org/doc/main/generated/librosa.feature.spectral_bandwidth.html#id1\n",
    "\n",
    "Librosa. (n.d.). Zero crossing rate. Retrieved January 2, 2025, from https://librosa.org/doc/main/generated/librosa.feature.zero_crossing_rate.html\n",
    "\n",
    "Librosa. (n.d.). Root-mean-square energy (RMS). Retrieved January 2, 2025, from https://librosa.org/doc/main/generated/librosa.feature.rms.html\n",
    "\n",
    "Librosa. (n.d.). Spectral rolloff. Retrieved January 2, 2025, from https://librosa.org/doc/main/generated/librosa.feature.spectral_rolloff.html\n",
    "\n",
    "Librosa. (n.d.). Mel-frequency cepstral coefficients (MFCC). Retrieved January 2, 2025, from https://librosa.org/doc/main/generated/librosa.feature.mfcc.html\n",
    "\n",
    "Librosa. (n.d.). Chroma short-time Fourier transform. Retrieved January 2, 2025, from https://librosa.org/doc/main/generated/librosa.feature.chroma_stft.html\n",
    "\n",
    "Librosa. (n.d.). Dynamic beat tracking. Retrieved January 2, 2025, from https://librosa.org/doc/main/auto_examples/plot_dynamic_beat.html\n",
    "\n",
    "Librosa. (n.d.). Spectral contrast. Retrieved January 2, 2025, from https://librosa.org/doc/main/generated/librosa.feature.spectral_contrast.html\n",
    "\n",
    "Librosa. (n.d.). Tonnetz. Retrieved January 2, 2025, from https://librosa.org/doc/main/generated/librosa.feature.tonnetz.html\n",
    "\n",
    "Librosa. (n.d.). Spectral flatness. Retrieved January 2, 2025, from https://librosa.org/doc/main/generated/librosa.feature.spectral_flatness.html\n",
    "\n",
    "Wikipedia contributors. (n.d.). Spectral flatness. Wikipedia. Retrieved January 2, 2025, from https://en.wikipedia.org/wiki/Spectral_flatness\n",
    "\n",
    "Anssi_Klapuri_Manuel_Davy_Signal_Processing_MetBookos.org.pdf"
   ]
  }
 ],
 "metadata": {
  "kernelspec": {
   "display_name": "Python 3",
   "language": "python",
   "name": "python3"
  },
  "language_info": {
   "codemirror_mode": {
    "name": "ipython",
    "version": 3
   },
   "file_extension": ".py",
   "mimetype": "text/x-python",
   "name": "python",
   "nbconvert_exporter": "python",
   "pygments_lexer": "ipython3",
   "version": "3.11.1"
  }
 },
 "nbformat": 4,
 "nbformat_minor": 2
}
