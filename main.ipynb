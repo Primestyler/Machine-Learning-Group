{
 "cells": [
  {
   "cell_type": "markdown",
   "metadata": {},
   "source": [
    "# 0. Loading packages"
   ]
  },
  {
   "cell_type": "markdown",
   "metadata": {},
   "source": [
    "Uncomment cell below if not all necessary packages are installed"
   ]
  },
  {
   "cell_type": "code",
   "execution_count": 1,
   "metadata": {},
   "outputs": [
    {
     "name": "stdout",
     "output_type": "stream",
     "text": [
      "Requirement already satisfied: xgboost in c:\\users\\matthias jenewein\\appdata\\local\\programs\\python\\python310\\lib\\site-packages (2.1.1)Note: you may need to restart the kernel to use updated packages.\n",
      "\n",
      "Requirement already satisfied: numpy in c:\\users\\matthias jenewein\\appdata\\local\\programs\\python\\python310\\lib\\site-packages (from xgboost) (1.24.2)\n",
      "Requirement already satisfied: scipy in c:\\users\\matthias jenewein\\appdata\\local\\programs\\python\\python310\\lib\\site-packages (from xgboost) (1.14.1)\n"
     ]
    }
   ],
   "source": [
    "#%pip install numpy\n",
    "#%pip install matplotlib\n",
    "#%pip install pandas\n",
    "#%pip install seaborn\n",
    "#%pip install scikit-learn\n",
    "#%pip install missingno\n",
    "#%pip install imblearn\n",
    "%pip install xgboost"
   ]
  },
  {
   "cell_type": "code",
   "execution_count": 2,
   "metadata": {},
   "outputs": [],
   "source": [
    "import warnings\n",
    "\n",
    "warnings.filterwarnings('ignore')\n",
    "\n",
    "import self_functions as sf\n",
    "import numpy as np\n",
    "import pandas as pd\n",
    "import matplotlib.pyplot as plt\n",
    "import seaborn as sns\n",
    "import missingno as msno\n",
    "from imblearn.under_sampling import RandomUnderSampler\n",
    "from imblearn.over_sampling import SMOTE\n",
    "from sklearn.preprocessing import StandardScaler\n",
    "from sklearn.model_selection import GridSearchCV\n",
    "from sklearn.neighbors import KNeighborsClassifier\n",
    "from sklearn.linear_model import LogisticRegression\n",
    "from sklearn.svm import SVC\n",
    "from sklearn.tree import DecisionTreeClassifier\n",
    "from sklearn.ensemble import RandomForestClassifier, GradientBoostingClassifier\n",
    "from xgboost import XGBClassifier"
   ]
  },
  {
   "cell_type": "markdown",
   "metadata": {},
   "source": [
    "# 1. Loading data"
   ]
  },
  {
   "cell_type": "code",
   "execution_count": 3,
   "metadata": {},
   "outputs": [],
   "source": [
    "train_data = pd.read_csv('Datasets/train.csv')\n",
    "test_data = pd.read_csv('Datasets/test.csv')\n",
    "test_data_ids = test_data['id']"
   ]
  },
  {
   "cell_type": "markdown",
   "metadata": {},
   "source": [
    "# 2. Inspecting data"
   ]
  },
  {
   "cell_type": "markdown",
   "metadata": {},
   "source": [
    "## 2.1 Inspecting missing data"
   ]
  },
  {
   "cell_type": "code",
   "execution_count": null,
   "metadata": {},
   "outputs": [],
   "source": [
    "msno.matrix(train_data)"
   ]
  },
  {
   "cell_type": "markdown",
   "metadata": {},
   "source": [
    "There is no missing data in the train dataset"
   ]
  },
  {
   "cell_type": "code",
   "execution_count": null,
   "metadata": {},
   "outputs": [],
   "source": [
    "msno.matrix(test_data)"
   ]
  },
  {
   "cell_type": "markdown",
   "metadata": {},
   "source": [
    "There is no missing data in the test dataset"
   ]
  },
  {
   "cell_type": "markdown",
   "metadata": {},
   "source": [
    "## 2.2 Inspecting individual columns"
   ]
  },
  {
   "cell_type": "code",
   "execution_count": null,
   "metadata": {},
   "outputs": [],
   "source": [
    "for i in train_data.columns:\n",
    "    sf.histplot(train_data[i])"
   ]
  },
  {
   "cell_type": "markdown",
   "metadata": {},
   "source": [
    "There is a low amount of people diagnosed with hypertension and/or heart disease.</br>\n",
    "The distribution for both the average glucose level and BMI is a right-skewed normal distribution.</br>\n",
    "There are more women than men in the dataset, there are no people who identify as other in the dataset.</br>\n",
    "The biggest group of people work at private companies.</br>\n",
    "There is a 50/50 spread of people living in a rural area vs an urban area.</br>\n",
    "There is an approximate 50/50 split for people who have ever smoked and people who have never smoked, for the people who have ever smoked it is split 50/50 for active smokers and former smokers.</br>\n",
    "\n",
    "There is only a low amount of people who have ever had a stroke (imbalanced dataset), which will make it difficult to correctly predict when someone will be having a stroke, therefore later on we will be oversampling the data to make it more useable for machine learning"
   ]
  },
  {
   "cell_type": "markdown",
   "metadata": {},
   "source": [
    "## 2.3 Datatypes"
   ]
  },
  {
   "cell_type": "code",
   "execution_count": 4,
   "metadata": {},
   "outputs": [
    {
     "name": "stdout",
     "output_type": "stream",
     "text": [
      "<class 'pandas.core.frame.DataFrame'>\n",
      "RangeIndex: 33550 entries, 0 to 33549\n",
      "Data columns (total 22 columns):\n",
      " #   Column                          Non-Null Count  Dtype  \n",
      "---  ------                          --------------  -----  \n",
      " 0   id                              33550 non-null  int64  \n",
      " 1   age                             33550 non-null  float64\n",
      " 2   hypertension                    33550 non-null  int64  \n",
      " 3   heart_disease                   33550 non-null  int64  \n",
      " 4   avg_glucose_level               33550 non-null  float64\n",
      " 5   bmi                             33550 non-null  float64\n",
      " 6   gender_Female                   33550 non-null  bool   \n",
      " 7   gender_Male                     33550 non-null  bool   \n",
      " 8   gender_Other                    33550 non-null  bool   \n",
      " 9   ever_married_No                 33550 non-null  bool   \n",
      " 10  ever_married_Yes                33550 non-null  bool   \n",
      " 11  work_type_Govt_job              33550 non-null  bool   \n",
      " 12  work_type_Never_worked          33550 non-null  bool   \n",
      " 13  work_type_Private               33550 non-null  bool   \n",
      " 14  work_type_Self-employed         33550 non-null  bool   \n",
      " 15  work_type_children              33550 non-null  bool   \n",
      " 16  Residence_type_Rural            33550 non-null  bool   \n",
      " 17  Residence_type_Urban            33550 non-null  bool   \n",
      " 18  smoking_status_formerly smoked  33550 non-null  bool   \n",
      " 19  smoking_status_never smoked     33550 non-null  bool   \n",
      " 20  smoking_status_smokes           33550 non-null  bool   \n",
      " 21  stroke                          33550 non-null  int64  \n",
      "dtypes: bool(15), float64(3), int64(4)\n",
      "memory usage: 2.3 MB\n"
     ]
    }
   ],
   "source": [
    "train_data.info()"
   ]
  },
  {
   "cell_type": "markdown",
   "metadata": {},
   "source": [
    "## 2.4 Relationships between variables"
   ]
  },
  {
   "cell_type": "code",
   "execution_count": null,
   "metadata": {},
   "outputs": [],
   "source": []
  },
  {
   "cell_type": "code",
   "execution_count": null,
   "metadata": {},
   "outputs": [],
   "source": [
    "sf.corrplot(train_data, 'stroke', 'pearson')"
   ]
  },
  {
   "cell_type": "code",
   "execution_count": null,
   "metadata": {},
   "outputs": [],
   "source": [
    "sf.corrplot(train_data, 'stroke', 'kendall')"
   ]
  },
  {
   "cell_type": "code",
   "execution_count": null,
   "metadata": {},
   "outputs": [],
   "source": [
    "sf.corrplot(train_data, 'stroke', 'spearman')"
   ]
  },
  {
   "cell_type": "markdown",
   "metadata": {},
   "source": [
    "## 2.5 Minimum requirements for Machine Learning with Scikit Learn"
   ]
  },
  {
   "cell_type": "markdown",
   "metadata": {},
   "source": [
    "- No missing values: there are no missing values in the dataset which is required for machine learning with Scikit Learn\n",
    "- Numeric or Boolean values: all columns are in either numeric or Boolean data types which is required for machine learning with Scikit Learn"
   ]
  },
  {
   "cell_type": "markdown",
   "metadata": {},
   "source": [
    "## 2.6 Conclusion"
   ]
  },
  {
   "cell_type": "markdown",
   "metadata": {},
   "source": []
  },
  {
   "cell_type": "markdown",
   "metadata": {},
   "source": [
    "# 3. Data preparation "
   ]
  },
  {
   "cell_type": "markdown",
   "metadata": {},
   "source": [
    "## 3.1 Column selection"
   ]
  },
  {
   "cell_type": "markdown",
   "metadata": {},
   "source": [
    "In order to avoid multicollinearity, it is important to drop at least one column for every feature. If this is not done, the model can always use the other features to describe the last feature of a certain group (e.g. smoking_status) which would lead to performance issues. \n",
    "\n",
    "For example \"smoking_status_smokes\" could then be explained like this: \n",
    "\n",
    "smoking_status_smokes + smoking_status_never + smoking_status_formerly = 1 \n",
    "then follows: \n",
    "smoking_status_smokes = 1 - (smoking_status_never smoked + smoking_status_formerly smoked)  \n",
    "\n",
    "This makes its more difficult to capture the individual effect of each feature. \n",
    "\n",
    "Especially for linear models (e.g. Logistic Regression) this is problematic because they assume independent features. \n",
    "While this might not be as important for Tree-based models (they split based on feature values and not coefficients), it still makes sense to drop one feature per group. There is no loss in information as well because its still implicitly known. \n",
    "\n",
    "Additionally, columns like \"id\", \"ever_married_yes\", \"Residence_type_Urban\" can be dropped because they offer no additional information. "
   ]
  },
  {
   "cell_type": "code",
   "execution_count": 378,
   "metadata": {},
   "outputs": [],
   "source": [
    "col_to_drop = ['id', 'gender_Male', 'gender_Other', 'ever_married_Yes', 'Residence_type_Urban', 'work_type_Private', 'smoking_status_never smoked' ]\n",
    "\n",
    "train_data = train_data.drop(col_to_drop, axis=1)\n",
    "test_data = test_data.drop(col_to_drop, axis=1)"
   ]
  },
  {
   "cell_type": "markdown",
   "metadata": {},
   "source": [
    "## 3.2 Remove outliers"
   ]
  },
  {
   "cell_type": "markdown",
   "metadata": {},
   "source": [
    "For average glucose levels and BMI we have an extreme right-skewed. Therefore we will be removing the outliers using the Z-score, all values with a Z-score above 3 will be removed."
   ]
  },
  {
   "cell_type": "code",
   "execution_count": 379,
   "metadata": {},
   "outputs": [],
   "source": [
    "bmi_zscore = sf.z_score(train_data['bmi'])\n",
    "glucose_zscore = sf.z_score(train_data['avg_glucose_level'])\n",
    "\n",
    "train_data['bmi'] = bmi_zscore\n",
    "train_data['avg_glucose_level'] = glucose_zscore\n",
    "\n",
    "train_data = train_data[(train_data['bmi'] < 3) & (train_data['avg_glucose_level'] < 3)]"
   ]
  },
  {
   "cell_type": "markdown",
   "metadata": {},
   "source": [
    "## 3.3 Feature selection"
   ]
  },
  {
   "cell_type": "markdown",
   "metadata": {},
   "source": [
    "After running all the models, we calculated the feature importances and put them in this table:\n",
    "![](Figures/output_table_1.png)\n",
    "We decided to drop all the features with a feature importance below 0.05"
   ]
  },
  {
   "cell_type": "code",
   "execution_count": 380,
   "metadata": {},
   "outputs": [],
   "source": [
    "cols_to_drop = ['Residence_type_Rural', 'gender_Female', 'bmi', 'smoking_status_formerly smoked', 'work_type_Never_worked', 'work_type_Govt_job']\n",
    "\n",
    "train_data = train_data.drop(cols_to_drop, axis=1)\n",
    "test_data = test_data.drop(cols_to_drop, axis=1)"
   ]
  },
  {
   "cell_type": "markdown",
   "metadata": {},
   "source": [
    "## 3.4 Creating X and y"
   ]
  },
  {
   "cell_type": "code",
   "execution_count": 381,
   "metadata": {},
   "outputs": [],
   "source": [
    "X_train = train_data.drop('stroke', axis=1)\n",
    "y_train = train_data['stroke']"
   ]
  },
  {
   "cell_type": "markdown",
   "metadata": {},
   "source": [
    "## 3.5 Data sampling"
   ]
  },
  {
   "cell_type": "markdown",
   "metadata": {},
   "source": [
    "Check how many True/False values there are in the train set"
   ]
  },
  {
   "cell_type": "code",
   "execution_count": null,
   "metadata": {},
   "outputs": [],
   "source": [
    "y_train.value_counts()"
   ]
  },
  {
   "cell_type": "code",
   "execution_count": 383,
   "metadata": {},
   "outputs": [],
   "source": [
    "#rus = RandomUnderSampler()\n",
    "#\n",
    "#X_train, y_train = rus.fit_resample(X_train, y_train)"
   ]
  },
  {
   "cell_type": "code",
   "execution_count": 384,
   "metadata": {},
   "outputs": [],
   "source": [
    "#smote = SMOTE()\n",
    "#\n",
    "#X_train, y_train = smote.fit_resample(X_train, y_train)"
   ]
  },
  {
   "cell_type": "markdown",
   "metadata": {},
   "source": [
    "Check how many True/False values there are in the train set"
   ]
  },
  {
   "cell_type": "code",
   "execution_count": null,
   "metadata": {},
   "outputs": [],
   "source": [
    "y_train.value_counts()"
   ]
  },
  {
   "cell_type": "markdown",
   "metadata": {},
   "source": [
    "## 3.6 Standardizing data"
   ]
  },
  {
   "cell_type": "markdown",
   "metadata": {},
   "source": [
    "The columns containing data of the float type will be standardized using Scikit Learn's standardscaler. It is important to standardize the data, this prevents columns with high values to have an unreasonably large impact. The way the standarscaler scales is using the standard deviation and the mean to calculate the Z-score"
   ]
  },
  {
   "cell_type": "code",
   "execution_count": 386,
   "metadata": {},
   "outputs": [],
   "source": [
    "sc = StandardScaler()\n",
    "\n",
    "sf.sta_sca(sc, X_train, ['age', 'avg_glucose_level'])\n",
    "sf.sta_sca(sc, test_data, ['age', 'avg_glucose_level'])"
   ]
  },
  {
   "cell_type": "markdown",
   "metadata": {},
   "source": [
    "# 5. Models"
   ]
  },
  {
   "cell_type": "markdown",
   "metadata": {},
   "source": [
    "## 5.1 K-Nearest Neighbours\n",
    "\n",
    "KNN is a simple, instance-based learning algorithm. We start by tuning the hyperparameters (number of neighbors, weights, and algorithms) to find the best-performing configuration. After tuning, we train the model and use it to make predictions."
   ]
  },
  {
   "cell_type": "markdown",
   "metadata": {},
   "source": [
    "#### Foundation\n",
    "\n",
    "The distance between two data points determines the similiarity:\n",
    "\n",
    "There are 2 different ways to measure the distance:\n",
    "\n",
    "1. Euclidean Distance: \n",
    "The euclidean distance is the distance of a straight line between two points and its defined as:\n",
    "\n",
    "![](KNN_EXP1.png)\n",
    "\n",
    "2. Manhattan Distance: \n",
    "The manhattan distance is the absolute differences of the cartesian coordinates of two data points.\n",
    "\n",
    "![](KNN_EXP2.png)\n",
    "\n",
    "\n",
    "Regardless of which distance measurement you choose, the classification of a new data point is based on a majority vote among it's k-nearest neighbors.\n",
    "The predicted value is the average value of the values the k-nearest neighbors hold."
   ]
  },
  {
   "cell_type": "markdown",
   "metadata": {},
   "source": [
    "#### Importance of Standardization\n",
    "\n",
    "The KNN-model uses distance to predict new values. This is fine as long as all values in the dataset have similiar scales. If they dont, features with higher scales will always overshadow smaller-scaled features. A good example for this would be Body-Height versus Body-Weight. Are person can easily weigh 100kgs, but is not bigger than 2 metres. Without standardization, the distance metric would be skewed and the predictions would be heavily influenced by certain features. \n",
    "\n",
    "Therefore, standardization leads to higher accuracy and prevents bias."
   ]
  },
  {
   "cell_type": "markdown",
   "metadata": {},
   "source": [
    "#### Regularisation in KNN\n",
    "\n",
    "\n",
    "Regularization is used to prevent overfitting, which happens when the model fits the training data too closely and performs poorly on new data. Regularization adds a penalty to the loss function to discourage the model from using very large coefficients (which can lead to overfitting).\n",
    "\n",
    "1. Regulating the number of k:\n",
    "\n",
    "    Effect: Choosing an appropriate number of ks balances the variance-bias trade-off (too small versus k too big k - as already mentioned above).\n",
    "    \n",
    "2. Feature Selection/Dimension Reduction:\n",
    "\n",
    "    Effect: The more features exist, the less important distance metrics become. It is therefore important to reduce the amount of features to a point where only the most importanc components capture the most variance (ignoring unnecessary features that overcomplicate the dataset).\n",
    "\n",
    "3. Weighting Schemes: \n",
    "\n",
    "    By determining the influence of neighbors based on their distance for example, the more relevant data points are emphasized\n",
    "\n",
    "4. Choice of distance metrics: \n",
    "\n",
    "    The choice of the distance metric depends on nature of the dataset. For example, Manhattan distance performs better on high-dimensional, sparse datasets. "
   ]
  },
  {
   "cell_type": "markdown",
   "metadata": {},
   "source": [
    "Regularization and Overfitting:\n",
    "\n",
    "Overfitting happens when a model fits the training data too closely, capturing not only the patterns but also the noise in the data. This leads to poor performance on new (unseen) data.\n",
    "    Regularization helps to combat overfitting by penalizing large coefficients, which makes the model simpler and more generalizable. This ensures that the model does not rely too heavily on any single feature or a small set of features.\n",
    "\n",
    "Effect of Regularization:\n",
    "\n",
    "Without regularization: The model might have large coefficients, which leads to high variance and overfitting.\n",
    "With regularization: Coefficients are constrained, which reduces the risk of overfitting and increases the model’s ability to generalize to new data."
   ]
  },
  {
   "cell_type": "markdown",
   "metadata": {},
   "source": [
    "### 5.1.1 Hyperparameter tuning"
   ]
  },
  {
   "cell_type": "markdown",
   "metadata": {},
   "source": [
    "#### Hyperparameters to Tune in KNN:\n",
    "\n",
    "In KNN, we can adjust several hyperparameters to improve model performance. The key hyperparameters include:\n",
    "\n",
    "    Number of neighbors (penalty):\n",
    "        Specifies the number of closest neighbors to consider for making new predictions.\n",
    "\n",
    "        Small k: A small k might be better at capturing local patterns but at the same time might lead to overfitting because it is too sensitive to noise.\n",
    "        Big k: A big k ensures a more stable model but it might lead to underfitting because it fails to capture local patterns (increased bias).\n",
    "\n",
    "    Distance metrics (C):\n",
    "        Euclidean Distance:\n",
    "        Manhattan Distance: If C is small (like 0.01), the model is heavily regularized. If C is large (like 100), the model is lightly regularized.\n",
    "\n",
    "    Weighting scheme:\n",
    "        Specifies the weight given to neighbours:\n",
    "        \n",
    "        Uniform Weight: All neighbours have the same weight (= similiar influence).\n",
    "        Distance Weight: Closer neighbours have bigger weight(=higher influence).\n",
    "        \n",
    "    Algorithm (class_weight):\n",
    "        This hyperparamter specifes the methods used to compute the nearest neighbors. The choice depends on the structure/complexity of the dataset.\n",
    "\n",
    "We use GridSearchCV to optimize our hyperparameters. \n"
   ]
  },
  {
   "cell_type": "code",
   "execution_count": 387,
   "metadata": {},
   "outputs": [],
   "source": [
    "knn = KNeighborsClassifier()\n",
    "\n",
    "param_grid = {'n_neighbors': [1, 2, 3, 4, 5], 'weights': ['uniform'], 'algorithm': ['ball_tree', 'kd_tree', 'brute']}\n",
    "knn_cv = GridSearchCV(estimator=knn, param_grid=param_grid, cv=10, scoring='f1', n_jobs=-1)"
   ]
  },
  {
   "cell_type": "markdown",
   "metadata": {},
   "source": [
    "### 5.1.2 Training KNN"
   ]
  },
  {
   "cell_type": "code",
   "execution_count": null,
   "metadata": {},
   "outputs": [],
   "source": [
    "knn_cv.fit(X_train, y_train)\n",
    "print(\"Best parameters: \", knn_cv.best_params_)\n",
    "print(\"Best cross-validation score: \", knn_cv.best_score_)"
   ]
  },
  {
   "cell_type": "markdown",
   "metadata": {},
   "source": [
    "### 5.1.3 Predicting KNN"
   ]
  },
  {
   "cell_type": "code",
   "execution_count": 389,
   "metadata": {},
   "outputs": [],
   "source": [
    "knn_pred = knn_cv.predict(test_data)\n",
    "\n",
    "knn_pred_df = test_data_ids.to_frame()\n",
    "knn_pred_df['stroke'] = knn_pred"
   ]
  },
  {
   "cell_type": "markdown",
   "metadata": {},
   "source": [
    "### 5.1.4 Writing to CSV"
   ]
  },
  {
   "cell_type": "code",
   "execution_count": 390,
   "metadata": {},
   "outputs": [],
   "source": [
    "knn_pred_df.to_csv('Datasets/Predictions/knn_pred.csv', index=False)"
   ]
  },
  {
   "cell_type": "markdown",
   "metadata": {},
   "source": [
    "## 5.2 Logistic Regression\n",
    "\n",
    "Logistic Regression is a linear model often used for binary classification tasks like this. It models the probability that a given instance belongs to the positive class (stroke) using a logistic function. We will tune the regularization parameter `C` and different solvers to find the best model."
   ]
  },
  {
   "cell_type": "markdown",
   "metadata": {},
   "source": [
    "### Mathematical Foundation\n",
    "\n",
    "The formula for Logistic Regression can be expressed as follows:\n",
    "\n",
    "![](LR_Exp1.png)"
   ]
  },
  {
   "cell_type": "markdown",
   "metadata": {},
   "source": [
    "Where:\n",
    "— P(Y=1|X): Probability of the target variable being 1 given the input features X.\n",
    "— β₀, β₁ : Coefficients that need to be learned from the training data.\n",
    "— X₁, X₂ : Input features."
   ]
  },
  {
   "cell_type": "markdown",
   "metadata": {},
   "source": [
    "### Binary cross-entropy / log loss\n",
    "To evaluate how well the model is performing, we use a loss function. The goal of training the model is to minimize this loss.\n",
    "\n",
    "![](LR_EXP2.png)"
   ]
  },
  {
   "cell_type": "markdown",
   "metadata": {},
   "source": [
    "where y is the label (1 for stroke and 0 for no stroke for exapmle) and p(y) is the predicted probability of a stroke for all N points.\n",
    "\n",
    "Reading this formula, it tells that, for stroke (y=1), it adds log(p(y)) to the loss, that is, the log probability of it being a stroke. Conversely, it adds log(1-p(y)), that is, the log probability of no stroke, for each no stroke (y=0). "
   ]
  },
  {
   "cell_type": "markdown",
   "metadata": {},
   "source": [
    "Gradient Descent is an optimization algorithm used in Logistic Regression (and many other models) to find the best parameters (or weights) that minimize the model's error. "
   ]
  },
  {
   "cell_type": "markdown",
   "metadata": {},
   "source": [
    "θ=θ−α⋅∇J(θ)\n",
    "\n",
    "    θθ: Current weight values.\n",
    "    αα: Learning rate (controls the step size).\n",
    "    ∇J(θ)∇J(θ): Gradient of the loss function with respect to θθ."
   ]
  },
  {
   "cell_type": "markdown",
   "metadata": {},
   "source": [
    "Regularization in Logistic Regression:\n",
    "\n",
    "Regularization is used to prevent overfitting, which happens when the model fits the training data too closely and performs poorly on new data. Regularization adds a penalty to the loss function to discourage the model from using very large coefficients (which can lead to overfitting).\n",
    "\n",
    "1. L1 Regularization (Lasso):\n",
    "\n",
    "    Effect: L1 regularization encourages the model to reduce the size of the coefficients and can even force some of them to be exactly zero. This helps in feature selection, as irrelevant features are removed.\n",
    "    \n",
    "2. L2 Regularization (Ridge):\n",
    "\n",
    "    Effect: L2 regularization discourages large coefficients by penalizing their squared values. This helps reduce overfitting, as it makes the model less sensitive to small changes in the input data.\n",
    "    \n",
    "3. ElasticNet:\n",
    "\n",
    "    ElasticNet is a combination of both L1 and L2 regularization, combining the strengths of both."
   ]
  },
  {
   "cell_type": "markdown",
   "metadata": {},
   "source": [
    "Regularization and Overfitting:\n",
    "\n",
    "Overfitting happens when a model fits the training data too closely, capturing not only the patterns but also the noise in the data. This leads to poor performance on new (unseen) data.\n",
    "    Regularization helps to combat overfitting by penalizing large coefficients, which makes the model simpler and more generalizable. This ensures that the model does not rely too heavily on any single feature or a small set of features.\n",
    "\n",
    "Effect of Regularization:\n",
    "\n",
    "Without regularization: The model might have large coefficients, which leads to high variance and overfitting.\n",
    "With regularization: Coefficients are constrained, which reduces the risk of overfitting and increases the model’s ability to generalize to new data."
   ]
  },
  {
   "cell_type": "markdown",
   "metadata": {},
   "source": [
    "### 5.2.1 Hyperparameter tuning"
   ]
  },
  {
   "cell_type": "markdown",
   "metadata": {},
   "source": [
    "#### Hyperparameters to Tune in Logistic Regression:\n",
    "\n",
    "In Logistic Regression, we can adjust several hyperparameters to improve model performance. The key hyperparameters include:\n",
    "\n",
    "    Penalty (penalty):\n",
    "        Specifies the type of regularization used: 'l1', 'l2', 'elasticnet', or None (no regularization).\n",
    "\n",
    "    Inverse Regularization Strength (C):\n",
    "        Controls the strength of regularization. Smaller values of C imply stronger regularization (more penalty on large coefficients).\n",
    "        Example: If C is small (like 0.01), the model is heavily regularized. If C is large (like 100), the model is lightly regularized.\n",
    "\n",
    "    Solver (solver):\n",
    "        Specifies the algorithm used to optimize the model. Common solvers include:\n",
    "            'lbfgs': A popular solver for smaller datasets.\n",
    "            'saga': A solver that supports both L1 and L2 regularization.\n",
    "            'liblinear': Suitable for smaller datasets but only works with L1 and L2 penalties.\n",
    "\n",
    "    Class Weight (class_weight):\n",
    "        This handles class imbalance by adjusting the weights associated with classes, making sure the model doesn’t overemphasize the majority class.\n"
   ]
  },
  {
   "cell_type": "code",
   "execution_count": 391,
   "metadata": {},
   "outputs": [],
   "source": [
    "lr = LogisticRegression()\n",
    "\n",
    "param_grid = {'penalty': ['l1', 'l2', 'elasticnet', None], 'C': [0.001, 0.01, 0.1, 1.0], 'solver': ['liblinear', 'newton-cholesky']}\n",
    "lr_cv = GridSearchCV(estimator=lr, param_grid=param_grid, cv=10, scoring='f1', n_jobs=-1)"
   ]
  },
  {
   "cell_type": "markdown",
   "metadata": {},
   "source": [
    "### 5.1.2 Training LR"
   ]
  },
  {
   "cell_type": "code",
   "execution_count": null,
   "metadata": {},
   "outputs": [],
   "source": [
    "lr_cv.fit(X_train, y_train)\n",
    "print(\"Best parameters: \", lr_cv.best_params_)\n",
    "print(\"Best cross-validation score: \", lr_cv.best_score_)"
   ]
  },
  {
   "cell_type": "markdown",
   "metadata": {},
   "source": [
    "### 5.1.3 Predicting LR"
   ]
  },
  {
   "cell_type": "code",
   "execution_count": 393,
   "metadata": {},
   "outputs": [],
   "source": [
    "lr_pred = lr_cv.predict(test_data)\n",
    "\n",
    "lr_pred_df = test_data_ids.to_frame()\n",
    "lr_pred_df['stroke'] = lr_pred"
   ]
  },
  {
   "cell_type": "markdown",
   "metadata": {},
   "source": [
    "### 5.1.4 Writing to CSV"
   ]
  },
  {
   "cell_type": "code",
   "execution_count": 394,
   "metadata": {},
   "outputs": [],
   "source": [
    "lr_pred_df.to_csv('Datasets/Predictions/lr_pred.csv', index=False)"
   ]
  },
  {
   "cell_type": "markdown",
   "metadata": {},
   "source": [
    "## 5.3 SVM"
   ]
  },
  {
   "cell_type": "markdown",
   "metadata": {},
   "source": [
    "SVM is a model that aims to seperate data points into different classes by using a hyperplane and keeping maximum margin at the same time. The hyperplane is a decision boundary that seperates these groups. Margin describes the gap between the hyperplane and the closest points of each class. These close points are called support vectors. "
   ]
  },
  {
   "cell_type": "markdown",
   "metadata": {},
   "source": [
    "#### Mathematical Foundations & small example using our dataset\n",
    "\n",
    "#TO-DO"
   ]
  },
  {
   "cell_type": "markdown",
   "metadata": {},
   "source": [
    "#### Kernel & Kernel Trick\n",
    "\n",
    "In general, a Kernel describes the similarity between two datapoints. In a ML context, they help to capture complex patterns and can handle non-linear relationsships by transforming data into higher dimensions. \n",
    "If it is not possible to simply seperate the different data points by a straight hyperplane because of their distribution, the Kernel Trick can help. \n",
    "The kernel trick simply means to transform the data into a higher dimensional space (from 2D to 3D for example). This might make it possible to seperate the data more easily. "
   ]
  },
  {
   "cell_type": "markdown",
   "metadata": {},
   "source": [
    "### 5.3.1 Hyperparameter tuning"
   ]
  },
  {
   "attachments": {
    "image-2.png": {
     "image/png": "[encoded data removed]"
    },
    "image-3.png": {
     "image/png": "[encoded data removed]"
    },
    "image-4.png": {
     "image/png": "[encoded data removed]"
    }
   },
   "cell_type": "markdown",
   "metadata": {},
   "source": [
    "#### Regularization in SVM\n",
    "\n",
    "\n",
    "- L1 Regularization: L1 Regularization mainly aims at feature selection and getting rid (reducing the weight of some features to 0) of less important features. This should result in a simpler model.  However, the selection process of \"less important\" features done by the L1 Regularization can lead to removing important features (in a dataset with muliple equally important features) which can make the model unstable. Especially in situations with more features than samples, L1 Regularization becomes unstable. \n",
    "\n",
    "![image-2.png](attachment:image-2.png)\n",
    " \n",
    "- L2 Regularization: Mainly, L2 Regularization promotes larger margins between classes which prevents the data better from overfitting and handling new data better. It does that by penalizing the square of weights (large coefficients are penalized) but it doesnt reduce them to 0. All features therefore stay in the model. \n",
    "\n",
    "![image-4.png](attachment:image-4.png)\n",
    "\n",
    "- C Parameter Regularization: The C parameter balances the decision between stricly classifing every data point correctly and allowing some mistakes in order to achieve a more generalizable seperation.  A high C increases the risk of overfitting, while a lower C intentionally allows misclassification.  \n",
    "\n",
    "![image-3.png](attachment:image-3.png)"
   ]
  },
  {
   "cell_type": "markdown",
   "metadata": {},
   "source": [
    "#### Hyperparameter tuning\n",
    "\n",
    "In Logistic Regression, we can adjust several hyperparameters to improve model performance. The key hyperparameters include:\n",
    "\n",
    "    Kernel (penalty):\n",
    "        Specifies the type of kernel used: 'l1', 'l2', 'elasticnet', or None (no regularization).\n",
    "\n",
    "    Regularization Parameter (C):\n",
    "        Controls the strength of regularization. Higher values of C imply stronger regularization (more penalty on large coefficients).\n",
    "        Example: If C is high (like 100), the model is heavily regularized. If C is small (like 0.01), the model is lightly regularized.\n",
    "\n",
    "    Gamma:\n",
    "        Gamma controls how strongly each data point is considered during the training process. Setting the value to 'auto' means that the model can decide on its own. \n",
    "\n",
    "    Degree Parameter (only for polynomial kernels):\n",
    "        The degree defines the complexity of the decision boundary that seperates the different models. Each degree allows the decision boundary to bend more often which enables better seperation. \n",
    "\n"
   ]
  },
  {
   "cell_type": "code",
   "execution_count": 395,
   "metadata": {},
   "outputs": [],
   "source": [
    "svc = SVC()\n",
    "\n",
    "param_grid = {'kernel': ['linear', 'poly', 'rbf'], 'degree': [2, 3, 4, 5], 'gamma': ['auto'], 'C': [0.001, 0.01, 0.1, 1.0]}\n",
    "svc_cv = GridSearchCV(estimator=svc, param_grid=param_grid, cv=10, scoring='f1', n_jobs=-1)"
   ]
  },
  {
   "cell_type": "markdown",
   "metadata": {},
   "source": [
    "### 5.3.2 Training SVC"
   ]
  },
  {
   "cell_type": "code",
   "execution_count": null,
   "metadata": {},
   "outputs": [],
   "source": [
    "svc_cv.fit(X_train, y_train)\n",
    "print(\"Best parameters: \", svc_cv.best_params_)\n",
    "print(\"Best cross-validation score: \", svc_cv.best_score_)"
   ]
  },
  {
   "cell_type": "markdown",
   "metadata": {},
   "source": [
    "### 5.3.3 Predicting SVC"
   ]
  },
  {
   "cell_type": "code",
   "execution_count": 397,
   "metadata": {},
   "outputs": [],
   "source": [
    "svc_pred = svc_cv.predict(test_data)\n",
    "\n",
    "svc_pred_df = test_data_ids.to_frame()\n",
    "svc_pred_df['stroke'] = svc_pred"
   ]
  },
  {
   "cell_type": "markdown",
   "metadata": {},
   "source": [
    "### 5.3.4 Writing to CSV"
   ]
  },
  {
   "cell_type": "code",
   "execution_count": 398,
   "metadata": {},
   "outputs": [],
   "source": [
    "svc_pred_df.to_csv('Datasets/Predictions/svc_pred.csv', index=False)"
   ]
  },
  {
   "cell_type": "markdown",
   "metadata": {},
   "source": [
    "## 5.4 Decision Tree\n",
    "\n",
    "A Decision Tree is a non-parametric model that makes predictions by recursively splitting the data into smaller subsets based on feature values. Each internal node in the tree represents a decision based on a feature, and each leaf node represents a predicted outcome (class)."
   ]
  },
  {
   "cell_type": "markdown",
   "metadata": {},
   "source": [
    "### Splitting Criteria\n",
    "\n",
    "The two most common criteria for making splits in a decision tree are:\n",
    "\n",
    "1. **Gini Impurity**:\n",
    "    Gini Impurity measures how often a randomly chosen element from the set would be incorrectly labeled if it was randomly labeled according to the class distribution in the node. Lower Gini implies purer nodes.\n",
    "\n",
    "2. **Entropy (Information Gain)**:\n",
    "   Entropy measures the impurity in a node, and the goal is to maximize the **Information Gain** (difference in entropy before and after the split) to create pure nodes.\n"
   ]
  },
  {
   "cell_type": "markdown",
   "metadata": {},
   "source": [
    "### 5.4.1 Hyperparameter tuning\n",
    "\n",
    "The best hyperparameters for a Decision Tree include:\n",
    "\n",
    "- **Max Depth**: Limits the depth of the tree. A deeper tree can model more complex patterns but may overfit.\n",
    "- **Min Samples Split**: The minimum number of samples required to split an internal node.\n",
    "- **Min Samples Leaf**: The minimum number of samples required to be at a leaf node.\n",
    "\n",
    "We determined the best hyperparameters using **GridSearchCV** and the results are displayed below:\n",
    "```python\n",
    "print(\"Best parameters: \", dt_cv.best_params_)"
   ]
  },
  {
   "cell_type": "markdown",
   "metadata": {},
   "source": [
    "\n",
    "### Pruning and Overfitting\n",
    "\n",
    "**Pruning** is the process of removing parts of the tree that do not provide additional predictive power. This helps in reducing the complexity of the model and preventing overfitting. There are two main forms of pruning:\n",
    "\n",
    "1. **Pre-Pruning** (Early Stopping):\n",
    "   - Pre-pruning stops the tree from growing too large by limiting the depth of the tree, minimum samples at a split, or minimum samples at a leaf. This prevents the model from becoming overly complex.\n",
    "\n",
    "2. **Post-Pruning**:\n",
    "   - After the tree is fully grown, post-pruning removes branches that have little importance. This is done by analyzing the performance of the tree on validation data and removing branches that do not improve generalization.\n",
    "\n",
    "#### Pruning and Underfitting\n",
    "\n",
    "While pruning reduces overfitting, it is important not to prune too much, as this could lead to **underfitting**, where the tree is too simple to capture the underlying patterns in the data.\n"
   ]
  },
  {
   "cell_type": "code",
   "execution_count": 399,
   "metadata": {},
   "outputs": [],
   "source": [
    "dt = DecisionTreeClassifier()\n",
    "\n",
    "param_grid = {'criterion': ['gini', 'entropy', 'log_loss'], 'max_depth': [3, 4, 5, 6, 7, 8, 9, 10], 'max_features': ['auto', 'sqrt', 'log2']}\n",
    "dt_cv = GridSearchCV(estimator=dt, param_grid=param_grid, cv=10, scoring='f1', n_jobs=-1)"
   ]
  },
  {
   "cell_type": "markdown",
   "metadata": {},
   "source": [
    "### 5.4.2 Training DT"
   ]
  },
  {
   "cell_type": "code",
   "execution_count": null,
   "metadata": {},
   "outputs": [],
   "source": [
    "dt_cv.fit(X_train, y_train)\n",
    "print(\"Best parameters: \", dt_cv.best_params_)\n",
    "print(\"Best cross-validation score: \", dt_cv.best_score_)"
   ]
  },
  {
   "cell_type": "markdown",
   "metadata": {},
   "source": [
    "### 5.4.3 Predicting DT"
   ]
  },
  {
   "cell_type": "code",
   "execution_count": 401,
   "metadata": {},
   "outputs": [],
   "source": [
    "dt_pred = dt_cv.predict(test_data)\n",
    "\n",
    "dt_pred_df = test_data_ids.to_frame()\n",
    "dt_pred_df['stroke'] = dt_pred"
   ]
  },
  {
   "cell_type": "markdown",
   "metadata": {},
   "source": [
    "### 5.4.4 Writing to CSV"
   ]
  },
  {
   "cell_type": "code",
   "execution_count": 402,
   "metadata": {},
   "outputs": [],
   "source": [
    "dt_pred_df.to_csv('Datasets/Predictions/dt_pred.csv', index=False)"
   ]
  },
  {
   "cell_type": "markdown",
   "metadata": {},
   "source": [
    "## 5.5 Ensembles"
   ]
  },
  {
   "cell_type": "markdown",
   "metadata": {},
   "source": [
    "### 5.5.1 Random Forest"
   ]
  },
  {
   "attachments": {
    "image.png": {
     "image/png": "[encoded data removed]"
    }
   },
   "cell_type": "markdown",
   "metadata": {},
   "source": [
    "#### General\n",
    "RF is a so called ensemble learning technique that builds multiple so called decision tree and combines their individual predictions to get a more accurate model (=forest). The method used to construct each tree is called bagging. In the context of a RF bagging means that each tree is trained independently from a random sample of the training dataset. Additionally at each split, there is a random set of features that will be considered while parsing through the tree. This further enhances diversity.  \n",
    "\n",
    "![image.png](attachment:image.png)\n"
   ]
  },
  {
   "cell_type": "markdown",
   "metadata": {},
   "source": [
    "#### Training time\n",
    "The training time for a RF is rather short since multiple trees can be trained at the same time (parallel)"
   ]
  },
  {
   "cell_type": "markdown",
   "metadata": {},
   "source": [
    "#### 5.5.1.1 Hyperparameter tuning"
   ]
  },
  {
   "cell_type": "markdown",
   "metadata": {},
   "source": [
    "#### What hyperparameters to choose\n",
    "\n",
    "For RF models, we can adjust several hyperparameters to improve model performance. The key hyperparameters include:\n",
    "\n",
    "    n_estimtors (penalty):\n",
    "        Specifies how many trees are built in the forest.\n",
    "\n",
    "    max_depth:\n",
    "        Controls the depth of each tree.\n",
    "\n",
    "    max_features:\n",
    "        Controls how many features should be considered when trying to find the best split\n",
    "\n",
    "    criterion:\n",
    "        Selects the loss function to measure model outcome. "
   ]
  },
  {
   "cell_type": "code",
   "execution_count": 403,
   "metadata": {},
   "outputs": [],
   "source": [
    "rf = RandomForestClassifier()\n",
    "\n",
    "param_grid = {'n_estimators': [50], 'criterion': ['gini', 'entropy', 'log_loss'], 'max_depth': [3, 4, 5, 6, 7, 8, 9, 10], 'max_features': ['auto', 'sqrt', 'log2'], 'bootstrap': [True]}\n",
    "rf_cv = GridSearchCV(estimator=rf, param_grid=param_grid, cv=10, scoring='f1', n_jobs=-1)"
   ]
  },
  {
   "cell_type": "markdown",
   "metadata": {},
   "source": [
    "#### 5.5.1.2 Training RF"
   ]
  },
  {
   "cell_type": "code",
   "execution_count": null,
   "metadata": {},
   "outputs": [],
   "source": [
    "rf_cv.fit(X_train, y_train)\n",
    "print(\"Best parameters: \", rf_cv.best_params_)\n",
    "print(\"Best cross-validation score: \", rf_cv.best_score_)"
   ]
  },
  {
   "cell_type": "markdown",
   "metadata": {},
   "source": [
    "#### 5.5.1.3 Predicting RF"
   ]
  },
  {
   "cell_type": "code",
   "execution_count": 405,
   "metadata": {},
   "outputs": [],
   "source": [
    "rf_pred = rf_cv.predict(test_data)\n",
    "\n",
    "rf_pred_df = test_data_ids.to_frame()\n",
    "rf_pred_df['stroke'] = rf_pred"
   ]
  },
  {
   "cell_type": "markdown",
   "metadata": {},
   "source": [
    "#### 5.5.1.4 Writing to CSV"
   ]
  },
  {
   "cell_type": "code",
   "execution_count": 406,
   "metadata": {},
   "outputs": [],
   "source": [
    "rf_pred_df.to_csv('Datasets/Predictions/rf_pred.csv', index=False)"
   ]
  },
  {
   "cell_type": "markdown",
   "metadata": {},
   "source": [
    "### 5.5.2 Gradient Boosting Classifier"
   ]
  },
  {
   "cell_type": "markdown",
   "metadata": {},
   "source": [
    "#### General\n",
    "\n",
    "In principle, a GBoost model works the same as a RF model. Both build trees to enhance their predictions. The key difference is the ensemble technique used to build trees. While RF, uses bagging, GBoost and XGBoost utilize a technique called boosting. Boosting in the context of GBC means that each new tree is trained to correct the residual (difference between predicted and actual values) errors of all earlier trees. This technique aims to improve the overall model accuracy by combining the predictions of each tree."
   ]
  },
  {
   "cell_type": "markdown",
   "metadata": {},
   "source": [
    "#### Training time\n",
    "\n",
    "The trees in a GBC are built sequentially because each newly built tree is based on the output of the prior tree. This leads to a longer training time since the process cannot be done parallel."
   ]
  },
  {
   "cell_type": "markdown",
   "metadata": {},
   "source": [
    "#### 5.5.2.1 Hyperparameter tuning"
   ]
  },
  {
   "cell_type": "markdown",
   "metadata": {},
   "source": [
    "#### Which hyperparamters to choose\n",
    "\n",
    "For GB models, we can adjust several hyperparameters to improve model performance. The key hyperparameters include:\n",
    "\n",
    "    n_estimators (penalty):\n",
    "        Specifies how many trees are built in the forest.\n",
    "\n",
    "    max_depth:\n",
    "        Controls the depth of each tree.\n",
    "\n",
    "    max_features:\n",
    "        Controls how many features should be considered when trying to find the best split\n",
    "    \n",
    "    loss: Chooses how the model penalizes errors\n",
    "\n",
    "    criterion: Guides the decision tree construction by selecting the best splits to minimize the chosen loss function."
   ]
  },
  {
   "cell_type": "code",
   "execution_count": 407,
   "metadata": {},
   "outputs": [],
   "source": [
    "gb = GradientBoostingClassifier()\n",
    "\n",
    "param_grid = {'loss': ['log_loss', 'exponential'], 'n_estimators': [50], 'criterion': ['friedman_mse', 'squared_error'], 'max_depth': [3, 4, 5, 6, 7, 8, 9, 10], 'max_features': ['sqrt', 'log2']}\n",
    "gb_cv = GridSearchCV(estimator=gb, param_grid=param_grid, cv=10, scoring='f1', n_jobs=-1)"
   ]
  },
  {
   "cell_type": "markdown",
   "metadata": {},
   "source": [
    "#### 5.5.2.2 Training GB"
   ]
  },
  {
   "cell_type": "code",
   "execution_count": null,
   "metadata": {},
   "outputs": [],
   "source": [
    "gb_cv.fit(X_train, y_train)\n",
    "print(\"Best parameters: \", gb_cv.best_params_)\n",
    "print(\"Best cross-validation score: \", gb_cv.best_score_)"
   ]
  },
  {
   "cell_type": "markdown",
   "metadata": {},
   "source": [
    "#### 5.5.2.3 Predicting GB"
   ]
  },
  {
   "cell_type": "code",
   "execution_count": 409,
   "metadata": {},
   "outputs": [],
   "source": [
    "gb_pred = gb_cv.predict(test_data)\n",
    "\n",
    "gb_pred_df = test_data_ids.to_frame()\n",
    "gb_pred_df['stroke'] = gb_pred"
   ]
  },
  {
   "cell_type": "markdown",
   "metadata": {},
   "source": [
    "#### 5.5.2.4 Writing to CSV"
   ]
  },
  {
   "cell_type": "code",
   "execution_count": 410,
   "metadata": {},
   "outputs": [],
   "source": [
    "gb_pred_df.to_csv('Datasets/Predictions/gb_pred.csv', index=False)"
   ]
  },
  {
   "cell_type": "markdown",
   "metadata": {},
   "source": [
    "### 5.5.3 XGBoost"
   ]
  },
  {
   "cell_type": "markdown",
   "metadata": {},
   "source": [
    "#### General\n",
    "\n",
    "XGBoost can be seen as an optimized version of GB. The principle is the same as it aims to correct the errors made by earlier trees (=Boosting). However, XGB introduces some improvents like Regularization (L1 and L2), tries to handle weighted and missing data better. "
   ]
  },
  {
   "cell_type": "markdown",
   "metadata": {},
   "source": [
    "#### Training time\n",
    "\n",
    "The trees in a XGBC are built sequentially because each newly built tree is based on the output of the prior tree. However, XGBoost is not strictly sequential. While it still builds each tree sequentially, the building of each individual tree is improved. The search for the best split for example is parallelized (the evualation of features is distributed over different processors). This \"hybrid\" attempt reduces the training time of a XGBoost model compared to a GB model. "
   ]
  },
  {
   "cell_type": "markdown",
   "metadata": {},
   "source": [
    "#### 5.5.3.1 Hyperparameter tuning"
   ]
  },
  {
   "cell_type": "markdown",
   "metadata": {},
   "source": [
    "#### What hyperparameters to choose\n",
    "\n",
    "For GB models, we can adjust several hyperparameters to improve model performance. The key hyperparameters include:\n",
    "\n",
    "    n_estimators:\n",
    "        Specifies how many trees are built in the forest.\n",
    "\n",
    "    max_depth:\n",
    "        Controls the depth of each tree.\n",
    "\n",
    "    learning_rate:\n",
    "        Controls how much each tree contributes to the result.\n",
    "    \n",
    "    gamma: Minimum loss reduction required to make a further split.\n",
    "\n",
    "    subsample: how much of the training sample is used to build each tree.\n",
    "\n",
    "    objective: specifies the learning task and loss function that the model should optimize. "
   ]
  },
  {
   "cell_type": "code",
   "execution_count": null,
   "metadata": {},
   "outputs": [],
   "source": [
    "xgb = XGBClassifier(use_label_encoder=False, eval_metric='logloss')\n",
    "\n",
    "param_grid = {\n",
    "    'n_estimators': [50],\n",
    "    'max_depth': [3, 4, 5, 6, 7, 8, 9, 10],\n",
    "    'learning_rate': [0.01, 0.1, 0.2],\n",
    "    'subsample': [0.8, 1.0],\n",
    "    'gamma': [0, 0.1, 0.2],\n",
    "    'objective': ['binary:logistic'],\n",
    "}\n",
    "\n",
    "xgb_cv = GridSearchCV(estimator=xgb, param_grid=param_grid, cv=10, scoring='f1', n_jobs=-1)"
   ]
  },
  {
   "cell_type": "markdown",
   "metadata": {},
   "source": [
    "#### 5.5.3.2 Training XGB"
   ]
  },
  {
   "cell_type": "code",
   "execution_count": null,
   "metadata": {},
   "outputs": [],
   "source": [
    "xgb_cv.fit(X_train, y_train)\n",
    "print(\"Best parameters: \", xgb_cv.best_params_)\n",
    "print(\"Best cross-validation score: \", xgb_cv.best_score_)"
   ]
  },
  {
   "cell_type": "markdown",
   "metadata": {},
   "source": [
    "#### 5.5.3.3 Predicting XGB"
   ]
  },
  {
   "cell_type": "code",
   "execution_count": null,
   "metadata": {},
   "outputs": [],
   "source": [
    "xgb_pred = xgb_cv.predict(test_data)\n",
    "\n",
    "xgb_pred_df = test_data_ids.to_frame()\n",
    "xgb_pred_df['stroke'] = xgb_pred"
   ]
  },
  {
   "cell_type": "markdown",
   "metadata": {},
   "source": [
    "#### 5.5.3.4 Writing to CSV"
   ]
  },
  {
   "cell_type": "code",
   "execution_count": null,
   "metadata": {},
   "outputs": [],
   "source": [
    "xgb_pred_df.to_csv('Datasets/Predictions/xgb_pred.csv', index=False)"
   ]
  },
  {
   "cell_type": "markdown",
   "metadata": {},
   "source": [
    "### 5.5.4 Self-composed Ensemble"
   ]
  },
  {
   "cell_type": "markdown",
   "metadata": {},
   "source": [
    "#### 5.5.4.1 Hyperparameter tuning"
   ]
  },
  {
   "cell_type": "code",
   "execution_count": null,
   "metadata": {},
   "outputs": [],
   "source": []
  },
  {
   "cell_type": "markdown",
   "metadata": {},
   "source": [
    "#### 5.5.4.2 Training the self-composed Ensemble"
   ]
  },
  {
   "cell_type": "code",
   "execution_count": null,
   "metadata": {},
   "outputs": [],
   "source": []
  },
  {
   "cell_type": "markdown",
   "metadata": {},
   "source": [
    "#### 5.5.4.3 Predicting the self-composed Ensemble"
   ]
  },
  {
   "cell_type": "code",
   "execution_count": null,
   "metadata": {},
   "outputs": [],
   "source": []
  },
  {
   "cell_type": "markdown",
   "metadata": {},
   "source": [
    "#### 5.5.4.4 Writing to CSV"
   ]
  },
  {
   "cell_type": "code",
   "execution_count": null,
   "metadata": {},
   "outputs": [],
   "source": []
  },
  {
   "cell_type": "markdown",
   "metadata": {},
   "source": [
    "## 6. Deciding feature importances"
   ]
  },
  {
   "cell_type": "code",
   "execution_count": null,
   "metadata": {},
   "outputs": [],
   "source": [
    "#lr_fi = lr_cv.best_estimator_.coef_\n",
    "#dt_fi = dt_cv.best_estimator_.feature_importances_\n",
    "#rf_fi = rf_cv.best_estimator_.feature_importances_\n",
    "#gb_fi = gb_cv.best_estimator_.feature_importances_\n",
    "#\n",
    "#fi_df = pd.DataFrame({'Features': X_train.columns, 'LR': lr_fi[0], 'DT': dt_fi, 'RF': rf_fi, 'GB': gb_fi})\n",
    "#fi_df['LR'] = np.abs(fi_df['LR'])\n",
    "#fi_df['mean'] = fi_df.mean(axis=1)\n",
    "#\n",
    "#fi_df = fi_df.sort_values(by='mean', ascending=False)\n",
    "#\n",
    "#fig, ax = plt.subplots(figsize=(20, 6))\n",
    "#ax.axis('tight')\n",
    "#ax.axis('off')\n",
    "#ax.table(cellText=fi_df.values, colLabels=fi_df.columns, cellLoc='center', loc='center')\n",
    "#\n",
    "#ax.set_title(\"Feature Importance Table (Run 1 with all features)\", fontsize=16, fontweight='bold')\n",
    "#\n",
    "#plt.savefig('Figures/output_table_2.png', format='png')\n",
    "#\n",
    "#plt.show()"
   ]
  }
 ],
 "metadata": {
  "kernelspec": {
   "display_name": "Python 3",
   "language": "python",
   "name": "python3"
  },
  "language_info": {
   "codemirror_mode": {
    "name": "ipython",
    "version": 3
   },
   "file_extension": ".py",
   "mimetype": "text/x-python",
   "name": "python",
   "nbconvert_exporter": "python",
   "pygments_lexer": "ipython3",
   "version": "3.10.6"
  }
 },
 "nbformat": 4,
 "nbformat_minor": 2
}
